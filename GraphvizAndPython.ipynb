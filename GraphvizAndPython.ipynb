{
 "cells": [
  {
   "cell_type": "markdown",
   "id": "ad38bf9d-f5e3-44ec-904d-810992cad075",
   "metadata": {
    "editable": true,
    "slideshow": {
     "slide_type": "slide"
    },
    "tags": []
   },
   "source": [
    "# Graphviz and Python\n",
    "*Nodes and Edges and Graphs Oh My*"
   ]
  },
  {
   "cell_type": "markdown",
   "id": "8632802b-42e3-4595-8500-52911a39e15c",
   "metadata": {
    "editable": true,
    "slideshow": {
     "slide_type": "slide"
    },
    "tags": []
   },
   "source": [
    "Not this kind of graph ...\n",
    "\n",
    "![Image](notThatKindOfGraph.svg)"
   ]
  },
  {
   "cell_type": "markdown",
   "id": "f283c492-4622-4155-bf1e-02d527322f8b",
   "metadata": {
    "editable": true,
    "slideshow": {
     "slide_type": "slide"
    },
    "tags": []
   },
   "source": [
    "This kind of graph ...\n",
    "\n",
    "![Image](example1.svg)"
   ]
  },
  {
   "cell_type": "markdown",
   "id": "bf26ad82-161d-4981-be24-2bce5f8a0f1d",
   "metadata": {
    "editable": true,
    "slideshow": {
     "slide_type": "notes"
    },
    "tags": []
   },
   "source": [
    "graphviz is package of command line programs that allow diagrams to be specified in code and then saved in a number of different formats (.svg, .png, .jpeg, and many more.)"
   ]
  },
  {
   "cell_type": "markdown",
   "id": "913cc061-4905-4529-b4eb-2229d2584040",
   "metadata": {
    "editable": true,
    "slideshow": {
     "slide_type": "slide"
    },
    "tags": []
   },
   "source": [
    "A typical graphviz command:\n",
    "\n",
    "`dot -Tsvg example1.dot > example1.svg`"
   ]
  },
  {
   "cell_type": "markdown",
   "id": "c7496235-4aa8-4036-9045-7b9e0ff6aaf6",
   "metadata": {
    "editable": true,
    "slideshow": {
     "slide_type": "notes"
    },
    "tags": []
   },
   "source": [
    "Note: `dot` is one of a number of programs that Graphviz refers to as filters.  Filters use different strategies for positioning elements of the graphs.  DOT is also the language used to define"
   ]
  },
  {
   "cell_type": "markdown",
   "id": "8743c0c0-4c2a-49d6-99c0-8ed3fb3135a9",
   "metadata": {
    "editable": true,
    "slideshow": {
     "slide_type": "slide"
    },
    "tags": []
   },
   "source": [
    "So what's in a .dot file?\n",
    "    \n",
    "```dot\n",
    "digraph example1{  // directed graph\n",
    "    rankdir=\"LR\";  // set attribute of graph\n",
    "    A -> B -> C;   // 3 nodes and the edges between\n",
    "}\n",
    "```\n",
    "\n",
    "![example1](example1.svg)\n"
   ]
  },
  {
   "cell_type": "markdown",
   "id": "dca08453-5dff-4aec-b9df-9397ed52afd1",
   "metadata": {
    "editable": true,
    "slideshow": {
     "slide_type": "slide"
    },
    "tags": []
   },
   "source": [
    "```dot\n",
    "graph example2 {\n",
    "  rankdir=\"LR\";\n",
    "  label=\"Title of digraph\";\n",
    "\n",
    "  // define a node w/ attributes\n",
    "  \"node 1\" [fillcolor=\"lightgreen\"; style=\"filled\"];\n",
    "\n",
    "  // define another node w/ attributes\n",
    "  B [label=\"node 2\"];\n",
    "\n",
    "  // un-directed edge with attributes\n",
    "  \"node 1\" -- B [label=\"directionality\\nis overrated\"];\n",
    "}\n",
    "```"
   ]
  },
  {
   "cell_type": "markdown",
   "id": "b0caf5b4-d1e5-4521-bf58-21d572528d8d",
   "metadata": {
    "editable": true,
    "slideshow": {
     "slide_type": "slide"
    },
    "tags": []
   },
   "source": [
    "![example2](example2.svg)"
   ]
  },
  {
   "cell_type": "markdown",
   "id": "41bdc294-a0cb-4360-8b08-d89205be0172",
   "metadata": {
    "editable": true,
    "slideshow": {
     "slide_type": "slide"
    },
    "tags": []
   },
   "source": [
    "```dot\n",
    "digraph example3{\n",
    "  rankdir=\"LR\";\n",
    "  label=\"example3\";\n",
    "  subgraph rectangular_nodes {\n",
    "    node [shape=\"rectangle\"];\n",
    "    A;\n",
    "  };\n",
    "  subgraph cluster_1{\n",
    "    label=\"cluster 1\";\n",
    "    B;\n",
    "  }\n",
    "  A -> B;\n",
    "}\n",
    "```"
   ]
  },
  {
   "cell_type": "markdown",
   "id": "287f59fd-d920-40e3-9ee2-d0943846496f",
   "metadata": {
    "editable": true,
    "slideshow": {
     "slide_type": "slide"
    },
    "tags": []
   },
   "source": [
    "![example3](example3.svg)"
   ]
  },
  {
   "cell_type": "markdown",
   "id": "cc05419d-eee6-435f-be71-48375753941f",
   "metadata": {
    "editable": true,
    "slideshow": {
     "slide_type": "notes"
    },
    "tags": []
   },
   "source": [
    "So let's use a Python library to generate the DOT code"
   ]
  },
  {
   "cell_type": "markdown",
   "id": "e0df5afc-a949-4f62-a919-1ae85680ffbf",
   "metadata": {
    "editable": true,
    "slideshow": {
     "slide_type": "slide"
    },
    "tags": []
   },
   "source": [
    "![stack1](stack1.svg)"
   ]
  },
  {
   "cell_type": "markdown",
   "id": "d8f426b3-5c2e-492d-a9bf-df54807dd96c",
   "metadata": {
    "editable": true,
    "slideshow": {
     "slide_type": "slide"
    },
    "tags": []
   },
   "source": [
    "To install the graphviz library.  \n",
    "\n",
    "`pip install graphviz`\n",
    "\n",
    "Make sure the `dot` program is on your `PATH`"
   ]
  },
  {
   "cell_type": "code",
   "execution_count": 2,
   "id": "3c864524-a456-4f57-92a3-bedbe7b32879",
   "metadata": {
    "editable": true,
    "slideshow": {
     "slide_type": ""
    },
    "tags": []
   },
   "outputs": [],
   "source": [
    "from graphviz import Digraph\n",
    "\n",
    "graph = Digraph('graphviz1', comment='Graph Label')\n",
    "graph.node('A', \"Node1\")\n",
    "graph.node('B', \"Node2\")\n",
    "graph.node('C', \"Node3\")\n",
    "graph.node('D', 'Node4')\n",
    "graph.edges(['AB', 'BC'])\n",
    "graph.edge('C', 'D')"
   ]
  },
  {
   "cell_type": "code",
   "execution_count": 3,
   "id": "e0a235e1-b75f-47ee-948c-a8630cfbeb1a",
   "metadata": {
    "editable": true,
    "slideshow": {
     "slide_type": ""
    },
    "tags": []
   },
   "outputs": [
    {
     "name": "stdout",
     "output_type": "stream",
     "text": [
      "// Graph Label\n",
      "digraph graphviz1 {\n",
      "\tA [label=Node1]\n",
      "\tB [label=Node2]\n",
      "\tC [label=Node3]\n",
      "\tD [label=Node4]\n",
      "\tA -> B\n",
      "\tB -> C\n",
      "\tC -> D\n",
      "}\n",
      "\n"
     ]
    }
   ],
   "source": [
    "print(graph.source)"
   ]
  },
  {
   "cell_type": "code",
   "execution_count": 4,
   "id": "2f81c1fc-172a-4776-9deb-428e41c7dd42",
   "metadata": {},
   "outputs": [
    {
     "data": {
      "text/plain": [
       "'graphviz1.gv.pdf'"
      ]
     },
     "execution_count": 4,
     "metadata": {},
     "output_type": "execute_result"
    }
   ],
   "source": [
    "# Outputs graph to current directory.  2 Files are created\n",
    "# a .gv file with the DOT definition of the graph\n",
    "# a .gv.pdf with the PDF version\n",
    "graph.render()"
   ]
  },
  {
   "cell_type": "code",
   "execution_count": 5,
   "id": "2d32cd43-dc3e-4f84-81c3-71bfda3029b4",
   "metadata": {},
   "outputs": [
    {
     "data": {
      "text/plain": [
       "'output/graphviz1.gv.pdf'"
      ]
     },
     "execution_count": 5,
     "metadata": {},
     "output_type": "execute_result"
    }
   ],
   "source": [
    "# specify directory to write file to using directory argument\n",
    "graph.render(directory='output')"
   ]
  },
  {
   "cell_type": "code",
   "execution_count": 6,
   "id": "32b7f355-f8ea-46f1-8b9d-de0d7d50372f",
   "metadata": {},
   "outputs": [
    {
     "data": {
      "text/plain": [
       "'graphviz1.gv.svg'"
      ]
     },
     "execution_count": 6,
     "metadata": {},
     "output_type": "execute_result"
    }
   ],
   "source": [
    "# A different output format can be specified when graph is created\n",
    "graph2 = Digraph('graphviz2', format='svg')\n",
    "\n",
    "# or at any point\n",
    "graph.format = 'svg'\n",
    "graph.directory = '.'\n",
    "graph.render()"
   ]
  },
  {
   "cell_type": "markdown",
   "id": "6037a5f3-d32c-42fe-80b3-da7a52cff8f7",
   "metadata": {},
   "source": [
    "![graphviz1](graphviz1.gv.svg)"
   ]
  },
  {
   "cell_type": "code",
   "execution_count": 7,
   "id": "22469dd5-3944-4f73-84d5-9ad202d10af5",
   "metadata": {},
   "outputs": [
    {
     "data": {
      "image/svg+xml": [
       "<?xml version=\"1.0\" encoding=\"UTF-8\" standalone=\"no\"?>\n",
       "<!DOCTYPE svg PUBLIC \"-//W3C//DTD SVG 1.1//EN\"\n",
       " \"http://www.w3.org/Graphics/SVG/1.1/DTD/svg11.dtd\">\n",
       "<!-- Generated by graphviz version 2.43.0 (0)\n",
       " -->\n",
       "<!-- Title: graphviz1 Pages: 1 -->\n",
       "<svg width=\"90pt\" height=\"260pt\"\n",
       " viewBox=\"0.00 0.00 89.89 260.00\" xmlns=\"http://www.w3.org/2000/svg\" xmlns:xlink=\"http://www.w3.org/1999/xlink\">\n",
       "<g id=\"graph0\" class=\"graph\" transform=\"scale(1 1) rotate(0) translate(4 256)\">\n",
       "<title>graphviz1</title>\n",
       "<polygon fill=\"white\" stroke=\"transparent\" points=\"-4,4 -4,-256 85.89,-256 85.89,4 -4,4\"/>\n",
       "<!-- A -->\n",
       "<g id=\"node1\" class=\"node\">\n",
       "<title>A</title>\n",
       "<ellipse fill=\"none\" stroke=\"black\" cx=\"40.95\" cy=\"-234\" rx=\"40.89\" ry=\"18\"/>\n",
       "<text text-anchor=\"middle\" x=\"40.95\" y=\"-230.3\" font-family=\"Times,serif\" font-size=\"14.00\">Node1</text>\n",
       "</g>\n",
       "<!-- B -->\n",
       "<g id=\"node2\" class=\"node\">\n",
       "<title>B</title>\n",
       "<ellipse fill=\"none\" stroke=\"black\" cx=\"40.95\" cy=\"-162\" rx=\"40.89\" ry=\"18\"/>\n",
       "<text text-anchor=\"middle\" x=\"40.95\" y=\"-158.3\" font-family=\"Times,serif\" font-size=\"14.00\">Node2</text>\n",
       "</g>\n",
       "<!-- A&#45;&gt;B -->\n",
       "<g id=\"edge1\" class=\"edge\">\n",
       "<title>A&#45;&gt;B</title>\n",
       "<path fill=\"none\" stroke=\"black\" d=\"M40.95,-215.7C40.95,-207.98 40.95,-198.71 40.95,-190.11\"/>\n",
       "<polygon fill=\"black\" stroke=\"black\" points=\"44.45,-190.1 40.95,-180.1 37.45,-190.1 44.45,-190.1\"/>\n",
       "</g>\n",
       "<!-- C -->\n",
       "<g id=\"node3\" class=\"node\">\n",
       "<title>C</title>\n",
       "<ellipse fill=\"none\" stroke=\"black\" cx=\"40.95\" cy=\"-90\" rx=\"40.89\" ry=\"18\"/>\n",
       "<text text-anchor=\"middle\" x=\"40.95\" y=\"-86.3\" font-family=\"Times,serif\" font-size=\"14.00\">Node3</text>\n",
       "</g>\n",
       "<!-- B&#45;&gt;C -->\n",
       "<g id=\"edge2\" class=\"edge\">\n",
       "<title>B&#45;&gt;C</title>\n",
       "<path fill=\"none\" stroke=\"black\" d=\"M40.95,-143.7C40.95,-135.98 40.95,-126.71 40.95,-118.11\"/>\n",
       "<polygon fill=\"black\" stroke=\"black\" points=\"44.45,-118.1 40.95,-108.1 37.45,-118.1 44.45,-118.1\"/>\n",
       "</g>\n",
       "<!-- D -->\n",
       "<g id=\"node4\" class=\"node\">\n",
       "<title>D</title>\n",
       "<ellipse fill=\"none\" stroke=\"black\" cx=\"40.95\" cy=\"-18\" rx=\"40.89\" ry=\"18\"/>\n",
       "<text text-anchor=\"middle\" x=\"40.95\" y=\"-14.3\" font-family=\"Times,serif\" font-size=\"14.00\">Node4</text>\n",
       "</g>\n",
       "<!-- C&#45;&gt;D -->\n",
       "<g id=\"edge3\" class=\"edge\">\n",
       "<title>C&#45;&gt;D</title>\n",
       "<path fill=\"none\" stroke=\"black\" d=\"M40.95,-71.7C40.95,-63.98 40.95,-54.71 40.95,-46.11\"/>\n",
       "<polygon fill=\"black\" stroke=\"black\" points=\"44.45,-46.1 40.95,-36.1 37.45,-46.1 44.45,-46.1\"/>\n",
       "</g>\n",
       "</g>\n",
       "</svg>\n"
      ],
      "text/plain": [
       "<graphviz.graphs.Digraph at 0x7f45f0386a00>"
      ]
     },
     "execution_count": 7,
     "metadata": {},
     "output_type": "execute_result"
    }
   ],
   "source": [
    "# Hey look graphs automatically display in Jupyter (when using svg format)\n",
    "graph"
   ]
  },
  {
   "cell_type": "code",
   "execution_count": 33,
   "id": "7e434553-0025-4a13-ae2d-8f7bb5ece9f6",
   "metadata": {},
   "outputs": [
    {
     "data": {
      "image/svg+xml": [
       "<?xml version=\"1.0\" encoding=\"UTF-8\" standalone=\"no\"?>\n",
       "<!DOCTYPE svg PUBLIC \"-//W3C//DTD SVG 1.1//EN\"\n",
       " \"http://www.w3.org/Graphics/SVG/1.1/DTD/svg11.dtd\">\n",
       "<!-- Generated by graphviz version 2.43.0 (0)\n",
       " -->\n",
       "<!-- Title: Node Name vs. Label Pages: 1 -->\n",
       "<svg width=\"85pt\" height=\"116pt\"\n",
       " viewBox=\"0.00 0.00 84.69 116.00\" xmlns=\"http://www.w3.org/2000/svg\" xmlns:xlink=\"http://www.w3.org/1999/xlink\">\n",
       "<g id=\"graph0\" class=\"graph\" transform=\"scale(1 1) rotate(0) translate(4 112)\">\n",
       "<title>Node Name vs. Label</title>\n",
       "<polygon fill=\"white\" stroke=\"transparent\" points=\"-4,4 -4,-112 80.69,-112 80.69,4 -4,4\"/>\n",
       "<!-- A -->\n",
       "<g id=\"node1\" class=\"node\">\n",
       "<title>A</title>\n",
       "<ellipse fill=\"none\" stroke=\"black\" cx=\"38.35\" cy=\"-90\" rx=\"37.09\" ry=\"18\"/>\n",
       "<text text-anchor=\"middle\" x=\"38.35\" y=\"-86.3\" font-family=\"Times,serif\" font-size=\"14.00\">Alpha</text>\n",
       "</g>\n",
       "<!-- B -->\n",
       "<g id=\"node2\" class=\"node\">\n",
       "<title>B</title>\n",
       "<ellipse fill=\"none\" stroke=\"black\" cx=\"38.35\" cy=\"-18\" rx=\"38.19\" ry=\"18\"/>\n",
       "<text text-anchor=\"middle\" x=\"38.35\" y=\"-14.3\" font-family=\"Times,serif\" font-size=\"14.00\">Bravo</text>\n",
       "</g>\n",
       "<!-- A&#45;&gt;B -->\n",
       "<g id=\"edge1\" class=\"edge\">\n",
       "<title>A&#45;&gt;B</title>\n",
       "<path fill=\"none\" stroke=\"black\" d=\"M38.35,-71.7C38.35,-63.98 38.35,-54.71 38.35,-46.11\"/>\n",
       "<polygon fill=\"black\" stroke=\"black\" points=\"41.85,-46.1 38.35,-36.1 34.85,-46.1 41.85,-46.1\"/>\n",
       "</g>\n",
       "</g>\n",
       "</svg>\n"
      ],
      "text/plain": [
       "<graphviz.graphs.Digraph at 0x7f45cb9dfa30>"
      ]
     },
     "execution_count": 33,
     "metadata": {},
     "output_type": "execute_result"
    }
   ],
   "source": [
    "node_name_vs_label = Digraph('Node Name vs. Label', format='svg')\n",
    "node_name_vs_label.node('A', 'Alpha')\n",
    "node_name_vs_label.node('B', 'Bravo')\n",
    "node_name_vs_label.edge('A', 'B')\n",
    "node_name_vs_label"
   ]
  },
  {
   "cell_type": "code",
   "execution_count": 8,
   "id": "a00d3905-8f9f-4931-8a77-378736efcd02",
   "metadata": {},
   "outputs": [
    {
     "data": {
      "image/svg+xml": [
       "<?xml version=\"1.0\" encoding=\"UTF-8\" standalone=\"no\"?>\n",
       "<!DOCTYPE svg PUBLIC \"-//W3C//DTD SVG 1.1//EN\"\n",
       " \"http://www.w3.org/Graphics/SVG/1.1/DTD/svg11.dtd\">\n",
       "<!-- Generated by graphviz version 2.43.0 (0)\n",
       " -->\n",
       "<!-- Title: graphviz3 Pages: 1 -->\n",
       "<svg width=\"152pt\" height=\"44pt\"\n",
       " viewBox=\"0.00 0.00 152.00 44.00\" xmlns=\"http://www.w3.org/2000/svg\" xmlns:xlink=\"http://www.w3.org/1999/xlink\">\n",
       "<g id=\"graph0\" class=\"graph\" transform=\"scale(1 1) rotate(0) translate(4 40)\">\n",
       "<title>graphviz3</title>\n",
       "<polygon fill=\"white\" stroke=\"transparent\" points=\"-4,4 -4,-40 148,-40 148,4 -4,4\"/>\n",
       "<!-- A -->\n",
       "<g id=\"node1\" class=\"node\">\n",
       "<title>A</title>\n",
       "<polygon fill=\"none\" stroke=\"black\" points=\"54,-36 0,-36 0,0 54,0 54,-36\"/>\n",
       "<text text-anchor=\"middle\" x=\"27\" y=\"-14.3\" font-family=\"Times,serif\" font-size=\"14.00\">A</text>\n",
       "</g>\n",
       "<!-- B -->\n",
       "<g id=\"node2\" class=\"node\">\n",
       "<title>B</title>\n",
       "<polygon fill=\"none\" stroke=\"black\" points=\"144,-36 90,-36 90,0 144,0 144,-36\"/>\n",
       "<text text-anchor=\"middle\" x=\"117\" y=\"-14.3\" font-family=\"Times,serif\" font-size=\"14.00\">B</text>\n",
       "</g>\n",
       "<!-- A&#45;&gt;B -->\n",
       "<g id=\"edge1\" class=\"edge\">\n",
       "<title>A&#45;&gt;B</title>\n",
       "<path fill=\"none\" stroke=\"black\" d=\"M54.4,-18C62.39,-18 71.31,-18 79.82,-18\"/>\n",
       "<polygon fill=\"black\" stroke=\"black\" points=\"79.92,-21.5 89.92,-18 79.92,-14.5 79.92,-21.5\"/>\n",
       "</g>\n",
       "</g>\n",
       "</svg>\n"
      ],
      "text/plain": [
       "<graphviz.graphs.Digraph at 0x7f45e0ec4a90>"
      ]
     },
     "execution_count": 8,
     "metadata": {},
     "output_type": "execute_result"
    }
   ],
   "source": [
    "graph3 = Digraph(\n",
    "    'graphviz3',\n",
    "    format='svg',\n",
    "    node_attr={'shape': 'rectangle'},\n",
    "    graph_attr={'rankdir': 'LR'}\n",
    ")\n",
    "graph3.node('A')\n",
    "graph3.node('B')\n",
    "graph3.edge('A', 'B')\n",
    "graph3"
   ]
  },
  {
   "cell_type": "code",
   "execution_count": 9,
   "id": "b4fa8104-bd65-418d-abb2-adb55c6c334b",
   "metadata": {},
   "outputs": [
    {
     "data": {
      "image/svg+xml": [
       "<?xml version=\"1.0\" encoding=\"UTF-8\" standalone=\"no\"?>\n",
       "<!DOCTYPE svg PUBLIC \"-//W3C//DTD SVG 1.1//EN\"\n",
       " \"http://www.w3.org/Graphics/SVG/1.1/DTD/svg11.dtd\">\n",
       "<!-- Generated by graphviz version 2.43.0 (0)\n",
       " -->\n",
       "<!-- Title: graphviz3 Pages: 1 -->\n",
       "<svg width=\"152pt\" height=\"44pt\"\n",
       " viewBox=\"0.00 0.00 152.00 44.00\" xmlns=\"http://www.w3.org/2000/svg\" xmlns:xlink=\"http://www.w3.org/1999/xlink\">\n",
       "<g id=\"graph0\" class=\"graph\" transform=\"scale(1 1) rotate(0) translate(4 40)\">\n",
       "<title>graphviz3</title>\n",
       "<polygon fill=\"white\" stroke=\"transparent\" points=\"-4,4 -4,-40 148,-40 148,4 -4,4\"/>\n",
       "<!-- A -->\n",
       "<g id=\"node1\" class=\"node\">\n",
       "<title>A</title>\n",
       "<polygon fill=\"none\" stroke=\"black\" points=\"54,-36 0,-36 0,0 54,0 54,-36\"/>\n",
       "<text text-anchor=\"middle\" x=\"27\" y=\"-14.3\" font-family=\"Times,serif\" font-size=\"14.00\">A</text>\n",
       "</g>\n",
       "<!-- B -->\n",
       "<g id=\"node2\" class=\"node\">\n",
       "<title>B</title>\n",
       "<polygon fill=\"none\" stroke=\"black\" points=\"144,-36 90,-36 90,0 144,0 144,-36\"/>\n",
       "<text text-anchor=\"middle\" x=\"117\" y=\"-14.3\" font-family=\"Times,serif\" font-size=\"14.00\">B</text>\n",
       "</g>\n",
       "<!-- A&#45;&gt;B -->\n",
       "<g id=\"edge1\" class=\"edge\">\n",
       "<title>A&#45;&gt;B</title>\n",
       "<path fill=\"none\" stroke=\"black\" d=\"M54.4,-18C59.32,-18 64.59,-18 69.9,-18\"/>\n",
       "<polygon fill=\"black\" stroke=\"black\" points=\"89.92,-18 69.92,-27 79.92,-18 69.92,-18 69.92,-18 69.92,-18 79.92,-18 69.92,-9 89.92,-18 89.92,-18\"/>\n",
       "</g>\n",
       "</g>\n",
       "</svg>\n"
      ],
      "text/plain": [
       "<graphviz.graphs.Digraph at 0x7f45e0ec4a90>"
      ]
     },
     "execution_count": 9,
     "metadata": {},
     "output_type": "execute_result"
    }
   ],
   "source": [
    "# You can change node, graph, and edge attributes as you build the graph\n",
    "graph3.edge_attr.update(arrowhead='vee', arrowsize='2')\n",
    "graph3"
   ]
  },
  {
   "cell_type": "code",
   "execution_count": 10,
   "id": "e9cf67f2-db8a-423e-a833-57631371c9ef",
   "metadata": {},
   "outputs": [
    {
     "name": "stdout",
     "output_type": "stream",
     "text": [
      "digraph graphviz3 {\n",
      "\tgraph [rankdir=LR]\n",
      "\tnode [shape=rectangle]\n",
      "\tedge [arrowhead=vee arrowsize=2]\n",
      "\tA\n",
      "\tB\n",
      "\tA -> B\n",
      "}\n",
      "\n"
     ]
    }
   ],
   "source": [
    "print(graph3.source)"
   ]
  },
  {
   "cell_type": "code",
   "execution_count": 25,
   "id": "7f5b53f7-1279-44c6-b0b8-27c6c12b84ff",
   "metadata": {},
   "outputs": [
    {
     "name": "stdout",
     "output_type": "stream",
     "text": [
      "digraph graphviz4 {\n",
      "\tnode [shape=oval]\n",
      "}\n",
      "\n",
      "\n",
      "digraph graphviz5 {\n",
      "\trankdir=LR\n",
      "}\n",
      "\n"
     ]
    }
   ],
   "source": [
    "graph4 = Digraph('graphviz4', format='svg')\n",
    "graph4.attr('node', shape='oval')\n",
    "print(graph4.source)\n",
    "\n",
    "graph5 = Digraph('graphviz5', format='svg')\n",
    "graph5.attr(rankdir='LR')\n",
    "print(f\"\\n{graph5}\")"
   ]
  },
  {
   "cell_type": "code",
   "execution_count": null,
   "id": "b9d3f101-d752-4186-af9c-a3db21c6e92a",
   "metadata": {},
   "outputs": [],
   "source": [
    "def build_digraph(num, graph_attr=None):\n",
    "    default_graph_attr = {'rankdir': 'LR'}\n",
    "    if graph_attr:\n",
    "        default_graph_attr.update(graph_attr)\n",
    "    return Digraph(\n",
    "        f'graphviz{num}',\n",
    "        format='svg',\n",
    "        graph_attr=default_graph_attr,\n",
    "    )"
   ]
  },
  {
   "cell_type": "code",
   "execution_count": 26,
   "id": "eaade05a-ce8e-4e62-ac66-d92f048184c9",
   "metadata": {},
   "outputs": [
    {
     "data": {
      "image/svg+xml": [
       "<?xml version=\"1.0\" encoding=\"UTF-8\" standalone=\"no\"?>\n",
       "<!DOCTYPE svg PUBLIC \"-//W3C//DTD SVG 1.1//EN\"\n",
       " \"http://www.w3.org/Graphics/SVG/1.1/DTD/svg11.dtd\">\n",
       "<!-- Generated by graphviz version 2.43.0 (0)\n",
       " -->\n",
       "<!-- Title: graphviz6 Pages: 1 -->\n",
       "<svg width=\"279pt\" height=\"79pt\"\n",
       " viewBox=\"0.00 0.00 279.28 79.00\" xmlns=\"http://www.w3.org/2000/svg\" xmlns:xlink=\"http://www.w3.org/1999/xlink\">\n",
       "<g id=\"graph0\" class=\"graph\" transform=\"scale(1 1) rotate(0) translate(4 75)\">\n",
       "<title>graphviz6</title>\n",
       "<polygon fill=\"white\" stroke=\"transparent\" points=\"-4,4 -4,-75 275.28,-75 275.28,4 -4,4\"/>\n",
       "<!-- Northeast -->\n",
       "<g id=\"node1\" class=\"node\">\n",
       "<title>Northeast</title>\n",
       "<ellipse fill=\"none\" stroke=\"black\" cx=\"57.84\" cy=\"-18\" rx=\"57.69\" ry=\"18\"/>\n",
       "<text text-anchor=\"middle\" x=\"57.84\" y=\"-14.3\" font-family=\"Times,serif\" font-size=\"14.00\">Northeast</text>\n",
       "</g>\n",
       "<!-- Southwest -->\n",
       "<g id=\"node2\" class=\"node\">\n",
       "<title>Southwest</title>\n",
       "<ellipse fill=\"none\" stroke=\"black\" cx=\"211.48\" cy=\"-53\" rx=\"59.59\" ry=\"18\"/>\n",
       "<text text-anchor=\"middle\" x=\"211.48\" y=\"-49.3\" font-family=\"Times,serif\" font-size=\"14.00\">Southwest</text>\n",
       "</g>\n",
       "<!-- Northeast&#45;&gt;Southwest -->\n",
       "<g id=\"edge1\" class=\"edge\">\n",
       "<title>Northeast:ne&#45;&gt;Southwest:sw</title>\n",
       "<path fill=\"none\" stroke=\"black\" d=\"M73.84,-35C73.84,-35 155.02,-35 184.2,-35\"/>\n",
       "<polygon fill=\"black\" stroke=\"black\" points=\"184.48,-38.5 194.48,-35 184.48,-31.5 184.48,-38.5\"/>\n",
       "</g>\n",
       "</g>\n",
       "</svg>\n"
      ],
      "text/plain": [
       "<graphviz.graphs.Digraph at 0x7f45e01bddc0>"
      ]
     },
     "execution_count": 26,
     "metadata": {},
     "output_type": "execute_result"
    }
   ],
   "source": [
    "graph6 = build_digraph(6, graph_attr={'splines': 'false'})\n",
    "graph6.edge('Northeast:ne', 'Southwest:sw')\n",
    "graph6"
   ]
  },
  {
   "cell_type": "code",
   "execution_count": 28,
   "id": "5a3562aa-3bc0-4e9b-af5e-2173f615d73e",
   "metadata": {},
   "outputs": [
    {
     "data": {
      "image/svg+xml": [
       "<?xml version=\"1.0\" encoding=\"UTF-8\" standalone=\"no\"?>\n",
       "<!DOCTYPE svg PUBLIC \"-//W3C//DTD SVG 1.1//EN\"\n",
       " \"http://www.w3.org/Graphics/SVG/1.1/DTD/svg11.dtd\">\n",
       "<!-- Generated by graphviz version 2.43.0 (0)\n",
       " -->\n",
       "<!-- Title: graphviz7 Pages: 1 -->\n",
       "<svg width=\"208pt\" height=\"44pt\"\n",
       " viewBox=\"0.00 0.00 207.79 44.00\" xmlns=\"http://www.w3.org/2000/svg\" xmlns:xlink=\"http://www.w3.org/1999/xlink\">\n",
       "<g id=\"graph0\" class=\"graph\" transform=\"scale(1 1) rotate(0) translate(4 40)\">\n",
       "<title>graphviz7</title>\n",
       "<polygon fill=\"white\" stroke=\"transparent\" points=\"-4,4 -4,-40 203.79,-40 203.79,4 -4,4\"/>\n",
       "<!-- Node1 -->\n",
       "<g id=\"node1\" class=\"node\">\n",
       "<title>Node1</title>\n",
       "<ellipse fill=\"none\" stroke=\"black\" cx=\"40.95\" cy=\"-18\" rx=\"40.89\" ry=\"18\"/>\n",
       "<text text-anchor=\"middle\" x=\"40.95\" y=\"-14.3\" font-family=\"Times,serif\" font-size=\"14.00\">Node1</text>\n",
       "</g>\n",
       "<!-- Node2 -->\n",
       "<g id=\"node2\" class=\"node\">\n",
       "<title>Node2</title>\n",
       "<ellipse fill=\"none\" stroke=\"black\" cx=\"158.84\" cy=\"-18\" rx=\"40.89\" ry=\"18\"/>\n",
       "<text text-anchor=\"middle\" x=\"158.84\" y=\"-14.3\" font-family=\"Times,serif\" font-size=\"14.00\">Node2</text>\n",
       "</g>\n",
       "<!-- Node1&#45;&gt;Node2 -->\n",
       "<g id=\"edge1\" class=\"edge\">\n",
       "<title>Node1:c&#45;&gt;Node2:_</title>\n",
       "<path fill=\"none\" stroke=\"black\" d=\"M82.15,-18C90.33,-18 99.04,-18 107.52,-18\"/>\n",
       "<polygon fill=\"black\" stroke=\"black\" points=\"107.7,-21.5 117.7,-18 107.7,-14.5 107.7,-21.5\"/>\n",
       "</g>\n",
       "</g>\n",
       "</svg>\n"
      ],
      "text/plain": [
       "<graphviz.graphs.Digraph at 0x7f45e01c6cd0>"
      ]
     },
     "execution_count": 28,
     "metadata": {},
     "output_type": "execute_result"
    }
   ],
   "source": [
    "graph7 = build_digraph(7, graph_attr={'splines': 'false'})\n",
    "graph7.edge('Node1:c', 'Node2:_')\n",
    "graph7"
   ]
  },
  {
   "cell_type": "code",
   "execution_count": 29,
   "id": "ec006885-8fc8-4b6f-bd91-348ebfdb3db2",
   "metadata": {},
   "outputs": [
    {
     "data": {
      "image/svg+xml": [
       "<?xml version=\"1.0\" encoding=\"UTF-8\" standalone=\"no\"?>\n",
       "<!DOCTYPE svg PUBLIC \"-//W3C//DTD SVG 1.1//EN\"\n",
       " \"http://www.w3.org/Graphics/SVG/1.1/DTD/svg11.dtd\">\n",
       "<!-- Generated by graphviz version 2.43.0 (0)\n",
       " -->\n",
       "<!-- Title: graphviz8 Pages: 1 -->\n",
       "<svg width=\"121pt\" height=\"83pt\"\n",
       " viewBox=\"0.00 0.00 121.14 82.95\" xmlns=\"http://www.w3.org/2000/svg\" xmlns:xlink=\"http://www.w3.org/1999/xlink\">\n",
       "<g id=\"graph0\" class=\"graph\" transform=\"scale(1 1) rotate(0) translate(4 78.95)\">\n",
       "<title>graphviz8</title>\n",
       "<polygon fill=\"white\" stroke=\"transparent\" points=\"-4,4 -4,-78.95 117.14,-78.95 117.14,4 -4,4\"/>\n",
       "<!-- A -->\n",
       "<g id=\"node1\" class=\"node\">\n",
       "<title>A</title>\n",
       "<ellipse fill=\"none\" stroke=\"black\" cx=\"56.57\" cy=\"-37.48\" rx=\"56.64\" ry=\"37.45\"/>\n",
       "<text text-anchor=\"middle\" x=\"56.57\" y=\"-48.78\" font-family=\"Times,serif\" font-size=\"14.00\">centered</text>\n",
       "<text text-anchor=\"start\" x=\"24.57\" y=\"-33.78\" font-family=\"Times,serif\" font-size=\"14.00\">left</text>\n",
       "<text text-anchor=\"middle\" x=\"56.57\" y=\"-18.78\" font-family=\"Times,serif\" font-size=\"14.00\">right&#13;</text>\n",
       "</g>\n",
       "</g>\n",
       "</svg>\n"
      ],
      "text/plain": [
       "<graphviz.graphs.Digraph at 0x7f45e01c0c40>"
      ]
     },
     "execution_count": 29,
     "metadata": {},
     "output_type": "execute_result"
    }
   ],
   "source": [
    "graph8 = build_digraph(8)\n",
    "graph8.node('A', 'centered\\nleft\\lright\\r')\n",
    "graph8"
   ]
  },
  {
   "cell_type": "code",
   "execution_count": 35,
   "id": "8a223d48-f367-44f4-8950-3c13e2b93886",
   "metadata": {},
   "outputs": [
    {
     "data": {
      "image/svg+xml": [
       "<?xml version=\"1.0\" encoding=\"UTF-8\" standalone=\"no\"?>\n",
       "<!DOCTYPE svg PUBLIC \"-//W3C//DTD SVG 1.1//EN\"\n",
       " \"http://www.w3.org/Graphics/SVG/1.1/DTD/svg11.dtd\">\n",
       "<!-- Generated by graphviz version 2.43.0 (0)\n",
       " -->\n",
       "<!-- Title: graphviz9 Pages: 1 -->\n",
       "<svg width=\"142pt\" height=\"57pt\"\n",
       " viewBox=\"0.00 0.00 142.35 57.50\" xmlns=\"http://www.w3.org/2000/svg\" xmlns:xlink=\"http://www.w3.org/1999/xlink\">\n",
       "<g id=\"graph0\" class=\"graph\" transform=\"scale(1 1) rotate(0) translate(4 53.5)\">\n",
       "<title>graphviz9</title>\n",
       "<polygon fill=\"white\" stroke=\"transparent\" points=\"-4,4 -4,-53.5 138.35,-53.5 138.35,4 -4,4\"/>\n",
       "<!-- B -->\n",
       "<g id=\"node1\" class=\"node\">\n",
       "<title>B</title>\n",
       "<ellipse fill=\"none\" stroke=\"black\" cx=\"67.18\" cy=\"-24.75\" rx=\"67.35\" ry=\"25\"/>\n",
       "<polygon fill=\"none\" stroke=\"black\" points=\"31.18,-13.75 31.18,-34.75 66.18,-34.75 66.18,-13.75 31.18,-13.75\"/>\n",
       "<text text-anchor=\"start\" x=\"34.18\" y=\"-20.55\" font-family=\"Times,serif\" font-size=\"14.00\">One</text>\n",
       "<polygon fill=\"none\" stroke=\"black\" points=\"68.18,-13.75 68.18,-34.75 104.18,-34.75 104.18,-13.75 68.18,-13.75\"/>\n",
       "<text text-anchor=\"start\" x=\"71.18\" y=\"-20.55\" font-family=\"Times,serif\" font-size=\"14.00\">Two</text>\n",
       "<polygon fill=\"none\" stroke=\"black\" points=\"27.68,-11.25 27.68,-38.25 106.68,-38.25 106.68,-11.25 27.68,-11.25\"/>\n",
       "</g>\n",
       "</g>\n",
       "</svg>\n"
      ],
      "text/plain": [
       "<graphviz.graphs.Digraph at 0x7f45e06d36d0>"
      ]
     },
     "execution_count": 35,
     "metadata": {},
     "output_type": "execute_result"
    }
   ],
   "source": [
    "graph9 = build_digraph(9)\n",
    "graph9.node('B', '<<table><tr><td>One</td><td>Two</td></tr></table>>')\n",
    "graph9"
   ]
  },
  {
   "cell_type": "markdown",
   "id": "a0e2df68-7bb1-435c-ab8a-fca75163cb76",
   "metadata": {
    "editable": true,
    "slideshow": {
     "slide_type": ""
    },
    "tags": []
   },
   "source": [
    "## Resources\n",
    "\n",
    "* [graphviz.org](https://graphviz.org/)\n",
    "* [graphviz (Python Library)](https://graphviz.readthedocs.io/en/stable/)"
   ]
  },
  {
   "cell_type": "code",
   "execution_count": null,
   "id": "e8e188a2-895b-4d86-97b7-0c37b94a2d68",
   "metadata": {},
   "outputs": [],
   "source": []
  },
  {
   "cell_type": "code",
   "execution_count": null,
   "id": "762312a6-f570-41e3-a974-1854fbd517ab",
   "metadata": {},
   "outputs": [],
   "source": []
  }
 ],
 "metadata": {
  "kernelspec": {
   "display_name": "Python 3 (ipykernel)",
   "language": "python",
   "name": "python3"
  },
  "language_info": {
   "codemirror_mode": {
    "name": "ipython",
    "version": 3
   },
   "file_extension": ".py",
   "mimetype": "text/x-python",
   "name": "python",
   "nbconvert_exporter": "python",
   "pygments_lexer": "ipython3",
   "version": "3.8.10"
  }
 },
 "nbformat": 4,
 "nbformat_minor": 5
}
