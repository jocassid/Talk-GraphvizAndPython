{
 "cells": [
  {
   "cell_type": "markdown",
   "id": "ad38bf9d-f5e3-44ec-904d-810992cad075",
   "metadata": {
    "editable": true,
    "slideshow": {
     "slide_type": "slide"
    },
    "tags": []
   },
   "source": [
    "# Graphviz and Python\n",
    "*Nodes and Edges and Graphs Oh My*"
   ]
  },
  {
   "cell_type": "markdown",
   "id": "8632802b-42e3-4595-8500-52911a39e15c",
   "metadata": {
    "editable": true,
    "slideshow": {
     "slide_type": ""
    },
    "tags": []
   },
   "source": [
    "Not this kind of graph ...\n",
    "\n",
    "![Image](notThatKindOfGraph2.svg)"
   ]
  },
  {
   "cell_type": "markdown",
   "id": "f283c492-4622-4155-bf1e-02d527322f8b",
   "metadata": {
    "editable": true,
    "slideshow": {
     "slide_type": "slide"
    },
    "tags": []
   },
   "source": [
    "This kind of graph ...\n",
    "\n",
    "![Image](example1.svg)"
   ]
  },
  {
   "cell_type": "markdown",
   "id": "bf26ad82-161d-4981-be24-2bce5f8a0f1d",
   "metadata": {
    "editable": true,
    "slideshow": {
     "slide_type": ""
    },
    "tags": []
   },
   "source": [
    "graphviz is package of command line programs that allow diagrams to be specified in code and then saved in a number of different formats (.svg, .png, .jpeg, and many more.)"
   ]
  },
  {
   "cell_type": "markdown",
   "id": "913cc061-4905-4529-b4eb-2229d2584040",
   "metadata": {},
   "source": [
    "A typical graphviz command:\n",
    "\n",
    "`dot -Tsvg example1.dot > example1.svg`"
   ]
  },
  {
   "cell_type": "markdown",
   "id": "c7496235-4aa8-4036-9045-7b9e0ff6aaf6",
   "metadata": {},
   "source": [
    "Note: `dot` is one of a number of programs that Graphviz refers to as filters.  Filters use different strategies for positioning elements of the graphs."
   ]
  },
  {
   "cell_type": "markdown",
   "id": "8743c0c0-4c2a-49d6-99c0-8ed3fb3135a9",
   "metadata": {},
   "source": [
    "So what's in a .dot file?\n",
    "    \n",
    "```dot\n",
    "digraph example1{\n",
    "    rankdir=\"LR\";\n",
    "    A -> B -> C;\n",
    "}\n",
    "```\n",
    "\n",
    "![example1](example1.svg)\n"
   ]
  },
  {
   "cell_type": "code",
   "execution_count": null,
   "id": "bbd4f210-5f7d-4295-be65-061af763669d",
   "metadata": {},
   "outputs": [],
   "source": []
  }
 ],
 "metadata": {
  "kernelspec": {
   "display_name": "Python 3 (ipykernel)",
   "language": "python",
   "name": "python3"
  },
  "language_info": {
   "codemirror_mode": {
    "name": "ipython",
    "version": 3
   },
   "file_extension": ".py",
   "mimetype": "text/x-python",
   "name": "python",
   "nbconvert_exporter": "python",
   "pygments_lexer": "ipython3",
   "version": "3.8.10"
  }
 },
 "nbformat": 4,
 "nbformat_minor": 5
}
