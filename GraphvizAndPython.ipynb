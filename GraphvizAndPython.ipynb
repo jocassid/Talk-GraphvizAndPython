{
 "cells": [
  {
   "cell_type": "markdown",
   "id": "ad38bf9d-f5e3-44ec-904d-810992cad075",
   "metadata": {
    "editable": true,
    "slideshow": {
     "slide_type": "slide"
    },
    "tags": []
   },
   "source": [
    "# Graphviz and Python\n",
    "*Nodes and Edges and Graphs Oh My*"
   ]
  },
  {
   "cell_type": "markdown",
   "id": "8632802b-42e3-4595-8500-52911a39e15c",
   "metadata": {
    "editable": true,
    "slideshow": {
     "slide_type": "slide"
    },
    "tags": []
   },
   "source": [
    "Not this kind of graph ...\n",
    "\n",
    "![Image](notThatKindOfGraph.svg)"
   ]
  },
  {
   "cell_type": "markdown",
   "id": "f283c492-4622-4155-bf1e-02d527322f8b",
   "metadata": {
    "editable": true,
    "slideshow": {
     "slide_type": "slide"
    },
    "tags": []
   },
   "source": [
    "This kind of graph ...\n",
    "\n",
    "![Image](example1.svg)"
   ]
  },
  {
   "cell_type": "markdown",
   "id": "bf26ad82-161d-4981-be24-2bce5f8a0f1d",
   "metadata": {
    "editable": true,
    "slideshow": {
     "slide_type": "notes"
    },
    "tags": []
   },
   "source": [
    "graphviz is package of command line programs that allow diagrams to be specified in code and then saved in a number of different formats (.svg, .png, .jpeg, and many more.)"
   ]
  },
  {
   "cell_type": "markdown",
   "id": "913cc061-4905-4529-b4eb-2229d2584040",
   "metadata": {
    "editable": true,
    "slideshow": {
     "slide_type": "slide"
    },
    "tags": []
   },
   "source": [
    "A typical graphviz command:\n",
    "\n",
    "`dot -Tsvg example1.dot > example1.svg`"
   ]
  },
  {
   "cell_type": "markdown",
   "id": "c7496235-4aa8-4036-9045-7b9e0ff6aaf6",
   "metadata": {
    "editable": true,
    "slideshow": {
     "slide_type": "notes"
    },
    "tags": []
   },
   "source": [
    "Note: `dot` is one of a number of programs that Graphviz refers to as filters.  Filters use different strategies for positioning elements of the graphs.  DOT is also the language used to define graphs."
   ]
  },
  {
   "cell_type": "markdown",
   "id": "8743c0c0-4c2a-49d6-99c0-8ed3fb3135a9",
   "metadata": {
    "editable": true,
    "slideshow": {
     "slide_type": "slide"
    },
    "tags": []
   },
   "source": [
    "So what's in a .dot file?\n",
    "    \n",
    "```dot\n",
    "digraph example1{  // directed graph\n",
    "    rankdir=\"LR\";  // set attribute of graph\n",
    "    A -> B -> C;   // 3 nodes and the edges between\n",
    "}\n",
    "```\n",
    "\n",
    "![example1](example1.svg)\n"
   ]
  },
  {
   "cell_type": "markdown",
   "id": "dca08453-5dff-4aec-b9df-9397ed52afd1",
   "metadata": {
    "editable": true,
    "slideshow": {
     "slide_type": "slide"
    },
    "tags": []
   },
   "source": [
    "```dot\n",
    "graph example2 {\n",
    "  rankdir=\"LR\";\n",
    "  label=\"example2\";\n",
    "\n",
    "  // define a node w/ attributes\n",
    "  \"node 1\" [fillcolor=\"lightgreen\"; style=\"filled\"];\n",
    "\n",
    "  // define another node w/ attributes\n",
    "  B [label=\"node 2\"];\n",
    "\n",
    "  /* un-directed edge with attributes */\n",
    "  \"node 1\" -- B [label=\"directionality\\nis overrated\"];\n",
    "}\n",
    "```"
   ]
  },
  {
   "cell_type": "raw",
   "id": "ac082768-b4e4-48fc-b660-7e82f0ae306b",
   "metadata": {
    "editable": true,
    "raw_mimetype": "",
    "slideshow": {
     "slide_type": "notes"
    },
    "tags": []
   },
   "source": [
    "This is a more complex example.\n",
    "- In the first line it uses graph rather than digraph indicating that this graph has undirected edges\n",
    "- We see attributes defined in key=value syntax as well as in the attribute list which is enclosed in square brackets.\n",
    "- We have 2 node definitions which are separate from the edge definitions\n",
    "- Note that node name doesn't need to match the label\n",
    "- Since isn't a digraph, we use the -- operator to define the edge."
   ]
  },
  {
   "cell_type": "markdown",
   "id": "b0caf5b4-d1e5-4521-bf58-21d572528d8d",
   "metadata": {
    "editable": true,
    "slideshow": {
     "slide_type": "slide"
    },
    "tags": []
   },
   "source": [
    "![example2](example2.svg)"
   ]
  },
  {
   "cell_type": "markdown",
   "id": "41bdc294-a0cb-4360-8b08-d89205be0172",
   "metadata": {
    "editable": true,
    "slideshow": {
     "slide_type": "slide"
    },
    "tags": []
   },
   "source": [
    "```dot\n",
    "digraph example3{\n",
    "  rankdir=\"LR\";\n",
    "  label=\"example3\";\n",
    "  subgraph rectangular_nodes {\n",
    "    node [shape=\"rectangle\"];\n",
    "    A;\n",
    "  };\n",
    "  subgraph cluster_1{\n",
    "    label=\"cluster 1\";\n",
    "    B;\n",
    "  }\n",
    "  A -> B;\n",
    "}\n",
    "```"
   ]
  },
  {
   "cell_type": "raw",
   "id": "9f5463ad-da1f-4334-a881-e1b068aea5b2",
   "metadata": {
    "editable": true,
    "raw_mimetype": "",
    "slideshow": {
     "slide_type": "notes"
    },
    "tags": []
   },
   "source": [
    "This graph contains two subgraphs.  Sub-graphs can be used to apply attributes to a group of nodes & edges or (If the subgraph name begins with 'cluster_' a box will be drawn around the nodes and edges within the subgraph)."
   ]
  },
  {
   "cell_type": "markdown",
   "id": "287f59fd-d920-40e3-9ee2-d0943846496f",
   "metadata": {
    "editable": true,
    "slideshow": {
     "slide_type": "slide"
    },
    "tags": []
   },
   "source": [
    "![example3](example3.svg)"
   ]
  },
  {
   "cell_type": "markdown",
   "id": "cc05419d-eee6-435f-be71-48375753941f",
   "metadata": {
    "editable": true,
    "slideshow": {
     "slide_type": "slide"
    },
    "tags": []
   },
   "source": [
    "So what about ...\n",
    "\n",
    "![python logo](python-logo-generic.svg)"
   ]
  },
  {
   "cell_type": "markdown",
   "id": "e0df5afc-a949-4f62-a919-1ae85680ffbf",
   "metadata": {
    "editable": true,
    "slideshow": {
     "slide_type": "slide"
    },
    "tags": []
   },
   "source": [
    "Let's use a Python library to generate the DOT code.\n",
    "\n",
    "![stack1](stack1.svg)"
   ]
  },
  {
   "cell_type": "markdown",
   "id": "d8f426b3-5c2e-492d-a9bf-df54807dd96c",
   "metadata": {
    "editable": true,
    "slideshow": {
     "slide_type": "slide"
    },
    "tags": []
   },
   "source": [
    "To install the graphviz library.  \n",
    "\n",
    "`pip install graphviz`\n",
    "\n",
    "Make sure the `dot` program is on your `PATH`"
   ]
  },
  {
   "cell_type": "code",
   "execution_count": 1,
   "id": "3c864524-a456-4f57-92a3-bedbe7b32879",
   "metadata": {
    "editable": true,
    "slideshow": {
     "slide_type": "slide"
    },
    "tags": []
   },
   "outputs": [],
   "source": [
    "from graphviz import Digraph\n",
    "\n",
    "graph = Digraph('graphviz1', comment='Graph Label')\n",
    "graph.node('A', \"Node1\")\n",
    "graph.node('B', \"Node2\")\n",
    "graph.node('C', \"Node3\")\n",
    "graph.node('D', 'Node4')\n",
    "graph.edges(['AB', 'BC'])\n",
    "graph.edge('C', 'D')"
   ]
  },
  {
   "cell_type": "raw",
   "id": "409bdcc4-8141-4b02-b7f3-57e17fa564f1",
   "metadata": {
    "editable": true,
    "raw_mimetype": "",
    "slideshow": {
     "slide_type": "notes"
    },
    "tags": []
   },
   "source": [
    "In this snipped we build a directed graph (Diagraph).  With 4 nodes and 3 connecting edges.  Note: The first argument is the node name, the second is the label for the node.  Keeping the node name short is handy when defining edges."
   ]
  },
  {
   "cell_type": "code",
   "execution_count": 2,
   "id": "e0a235e1-b75f-47ee-948c-a8630cfbeb1a",
   "metadata": {
    "editable": true,
    "slideshow": {
     "slide_type": "slide"
    },
    "tags": []
   },
   "outputs": [
    {
     "name": "stdout",
     "output_type": "stream",
     "text": [
      "// Graph Label\n",
      "digraph graphviz1 {\n",
      "\tA [label=Node1]\n",
      "\tB [label=Node2]\n",
      "\tC [label=Node3]\n",
      "\tD [label=Node4]\n",
      "\tA -> B\n",
      "\tB -> C\n",
      "\tC -> D\n",
      "}\n",
      "\n"
     ]
    }
   ],
   "source": [
    "print(graph.source)"
   ]
  },
  {
   "cell_type": "raw",
   "id": "434fe452-f998-4cb8-8862-156f885d7c7e",
   "metadata": {
    "editable": true,
    "raw_mimetype": "",
    "slideshow": {
     "slide_type": "notes"
    },
    "tags": []
   },
   "source": [
    "Use .source to get the DOT code for the graph"
   ]
  },
  {
   "cell_type": "code",
   "execution_count": 3,
   "id": "2f81c1fc-172a-4776-9deb-428e41c7dd42",
   "metadata": {
    "editable": true,
    "slideshow": {
     "slide_type": "slide"
    },
    "tags": []
   },
   "outputs": [
    {
     "data": {
      "text/plain": [
       "'graphviz1.gv.pdf'"
      ]
     },
     "execution_count": 3,
     "metadata": {},
     "output_type": "execute_result"
    }
   ],
   "source": [
    "# Outputs graph to current directory.  2 Files are created\n",
    "# a .gv file with the DOT definition of the graph\n",
    "# a .gv.pdf with the PDF version (pdf generated by default)\n",
    "# Filename will be based on the name passed to the init method\n",
    "graph.render()"
   ]
  },
  {
   "cell_type": "code",
   "execution_count": 4,
   "id": "2d32cd43-dc3e-4f84-81c3-71bfda3029b4",
   "metadata": {
    "editable": true,
    "slideshow": {
     "slide_type": "slide"
    },
    "tags": []
   },
   "outputs": [
    {
     "data": {
      "text/plain": [
       "'output/graphviz1.gv.pdf'"
      ]
     },
     "execution_count": 4,
     "metadata": {},
     "output_type": "execute_result"
    }
   ],
   "source": [
    "# specify directory to write file to using directory argument\n",
    "graph.render(directory='output')"
   ]
  },
  {
   "cell_type": "code",
   "execution_count": 5,
   "id": "32b7f355-f8ea-46f1-8b9d-de0d7d50372f",
   "metadata": {
    "editable": true,
    "slideshow": {
     "slide_type": "slide"
    },
    "tags": []
   },
   "outputs": [
    {
     "data": {
      "text/plain": [
       "'graphviz1.gv.svg'"
      ]
     },
     "execution_count": 5,
     "metadata": {},
     "output_type": "execute_result"
    }
   ],
   "source": [
    "# A different output format can be specified when graph is created\n",
    "graph2 = Digraph('graphviz2', format='svg')\n",
    "\n",
    "# or at any point\n",
    "graph.format = 'svg'\n",
    "graph.directory = '.'\n",
    "graph.render()"
   ]
  },
  {
   "cell_type": "markdown",
   "id": "6037a5f3-d32c-42fe-80b3-da7a52cff8f7",
   "metadata": {
    "editable": true,
    "slideshow": {
     "slide_type": "slide"
    },
    "tags": []
   },
   "source": [
    "![graphviz1](graphviz1.gv.svg)"
   ]
  },
  {
   "cell_type": "code",
   "execution_count": 6,
   "id": "22469dd5-3944-4f73-84d5-9ad202d10af5",
   "metadata": {
    "editable": true,
    "slideshow": {
     "slide_type": "slide"
    },
    "tags": []
   },
   "outputs": [
    {
     "data": {
      "image/svg+xml": [
       "<?xml version=\"1.0\" encoding=\"UTF-8\" standalone=\"no\"?>\n",
       "<!DOCTYPE svg PUBLIC \"-//W3C//DTD SVG 1.1//EN\"\n",
       " \"http://www.w3.org/Graphics/SVG/1.1/DTD/svg11.dtd\">\n",
       "<!-- Generated by graphviz version 2.43.0 (0)\n",
       " -->\n",
       "<!-- Title: graphviz1 Pages: 1 -->\n",
       "<svg width=\"90pt\" height=\"260pt\"\n",
       " viewBox=\"0.00 0.00 89.89 260.00\" xmlns=\"http://www.w3.org/2000/svg\" xmlns:xlink=\"http://www.w3.org/1999/xlink\">\n",
       "<g id=\"graph0\" class=\"graph\" transform=\"scale(1 1) rotate(0) translate(4 256)\">\n",
       "<title>graphviz1</title>\n",
       "<polygon fill=\"white\" stroke=\"transparent\" points=\"-4,4 -4,-256 85.89,-256 85.89,4 -4,4\"/>\n",
       "<!-- A -->\n",
       "<g id=\"node1\" class=\"node\">\n",
       "<title>A</title>\n",
       "<ellipse fill=\"none\" stroke=\"black\" cx=\"40.95\" cy=\"-234\" rx=\"40.89\" ry=\"18\"/>\n",
       "<text text-anchor=\"middle\" x=\"40.95\" y=\"-230.3\" font-family=\"Times,serif\" font-size=\"14.00\">Node1</text>\n",
       "</g>\n",
       "<!-- B -->\n",
       "<g id=\"node2\" class=\"node\">\n",
       "<title>B</title>\n",
       "<ellipse fill=\"none\" stroke=\"black\" cx=\"40.95\" cy=\"-162\" rx=\"40.89\" ry=\"18\"/>\n",
       "<text text-anchor=\"middle\" x=\"40.95\" y=\"-158.3\" font-family=\"Times,serif\" font-size=\"14.00\">Node2</text>\n",
       "</g>\n",
       "<!-- A&#45;&gt;B -->\n",
       "<g id=\"edge1\" class=\"edge\">\n",
       "<title>A&#45;&gt;B</title>\n",
       "<path fill=\"none\" stroke=\"black\" d=\"M40.95,-215.7C40.95,-207.98 40.95,-198.71 40.95,-190.11\"/>\n",
       "<polygon fill=\"black\" stroke=\"black\" points=\"44.45,-190.1 40.95,-180.1 37.45,-190.1 44.45,-190.1\"/>\n",
       "</g>\n",
       "<!-- C -->\n",
       "<g id=\"node3\" class=\"node\">\n",
       "<title>C</title>\n",
       "<ellipse fill=\"none\" stroke=\"black\" cx=\"40.95\" cy=\"-90\" rx=\"40.89\" ry=\"18\"/>\n",
       "<text text-anchor=\"middle\" x=\"40.95\" y=\"-86.3\" font-family=\"Times,serif\" font-size=\"14.00\">Node3</text>\n",
       "</g>\n",
       "<!-- B&#45;&gt;C -->\n",
       "<g id=\"edge2\" class=\"edge\">\n",
       "<title>B&#45;&gt;C</title>\n",
       "<path fill=\"none\" stroke=\"black\" d=\"M40.95,-143.7C40.95,-135.98 40.95,-126.71 40.95,-118.11\"/>\n",
       "<polygon fill=\"black\" stroke=\"black\" points=\"44.45,-118.1 40.95,-108.1 37.45,-118.1 44.45,-118.1\"/>\n",
       "</g>\n",
       "<!-- D -->\n",
       "<g id=\"node4\" class=\"node\">\n",
       "<title>D</title>\n",
       "<ellipse fill=\"none\" stroke=\"black\" cx=\"40.95\" cy=\"-18\" rx=\"40.89\" ry=\"18\"/>\n",
       "<text text-anchor=\"middle\" x=\"40.95\" y=\"-14.3\" font-family=\"Times,serif\" font-size=\"14.00\">Node4</text>\n",
       "</g>\n",
       "<!-- C&#45;&gt;D -->\n",
       "<g id=\"edge3\" class=\"edge\">\n",
       "<title>C&#45;&gt;D</title>\n",
       "<path fill=\"none\" stroke=\"black\" d=\"M40.95,-71.7C40.95,-63.98 40.95,-54.71 40.95,-46.11\"/>\n",
       "<polygon fill=\"black\" stroke=\"black\" points=\"44.45,-46.1 40.95,-36.1 37.45,-46.1 44.45,-46.1\"/>\n",
       "</g>\n",
       "</g>\n",
       "</svg>\n"
      ],
      "text/plain": [
       "<graphviz.graphs.Digraph at 0x7f0e95c13ac0>"
      ]
     },
     "execution_count": 6,
     "metadata": {},
     "output_type": "execute_result"
    }
   ],
   "source": [
    "# Hey look graphs automatically display in Jupyter\n",
    "# (when using svg format)\n",
    "graph"
   ]
  },
  {
   "cell_type": "code",
   "execution_count": 7,
   "id": "a00d3905-8f9f-4931-8a77-378736efcd02",
   "metadata": {
    "editable": true,
    "slideshow": {
     "slide_type": "slide"
    },
    "tags": []
   },
   "outputs": [
    {
     "data": {
      "image/svg+xml": [
       "<?xml version=\"1.0\" encoding=\"UTF-8\" standalone=\"no\"?>\n",
       "<!DOCTYPE svg PUBLIC \"-//W3C//DTD SVG 1.1//EN\"\n",
       " \"http://www.w3.org/Graphics/SVG/1.1/DTD/svg11.dtd\">\n",
       "<!-- Generated by graphviz version 2.43.0 (0)\n",
       " -->\n",
       "<!-- Title: graphviz3 Pages: 1 -->\n",
       "<svg width=\"152pt\" height=\"44pt\"\n",
       " viewBox=\"0.00 0.00 152.00 44.00\" xmlns=\"http://www.w3.org/2000/svg\" xmlns:xlink=\"http://www.w3.org/1999/xlink\">\n",
       "<g id=\"graph0\" class=\"graph\" transform=\"scale(1 1) rotate(0) translate(4 40)\">\n",
       "<title>graphviz3</title>\n",
       "<polygon fill=\"white\" stroke=\"transparent\" points=\"-4,4 -4,-40 148,-40 148,4 -4,4\"/>\n",
       "<!-- A -->\n",
       "<g id=\"node1\" class=\"node\">\n",
       "<title>A</title>\n",
       "<polygon fill=\"none\" stroke=\"black\" points=\"54,-36 0,-36 0,0 54,0 54,-36\"/>\n",
       "<text text-anchor=\"middle\" x=\"27\" y=\"-14.3\" font-family=\"Times,serif\" font-size=\"14.00\">A</text>\n",
       "</g>\n",
       "<!-- B -->\n",
       "<g id=\"node2\" class=\"node\">\n",
       "<title>B</title>\n",
       "<polygon fill=\"none\" stroke=\"black\" points=\"144,-36 90,-36 90,0 144,0 144,-36\"/>\n",
       "<text text-anchor=\"middle\" x=\"117\" y=\"-14.3\" font-family=\"Times,serif\" font-size=\"14.00\">B</text>\n",
       "</g>\n",
       "<!-- A&#45;&gt;B -->\n",
       "<g id=\"edge1\" class=\"edge\">\n",
       "<title>A&#45;&gt;B</title>\n",
       "<path fill=\"none\" stroke=\"black\" d=\"M54.4,-18C62.39,-18 71.31,-18 79.82,-18\"/>\n",
       "<polygon fill=\"black\" stroke=\"black\" points=\"79.92,-21.5 89.92,-18 79.92,-14.5 79.92,-21.5\"/>\n",
       "</g>\n",
       "</g>\n",
       "</svg>\n"
      ],
      "text/plain": [
       "<graphviz.graphs.Digraph at 0x7f0e942b8a60>"
      ]
     },
     "execution_count": 7,
     "metadata": {},
     "output_type": "execute_result"
    }
   ],
   "source": [
    "graph3 = Digraph(\n",
    "    'graphviz3',\n",
    "    format='svg',\n",
    "    node_attr={'shape': 'rectangle'},\n",
    "    graph_attr={'rankdir': 'LR'}\n",
    ")\n",
    "graph3.node('A')\n",
    "graph3.node('B')\n",
    "graph3.edge('A', 'B')\n",
    "graph3"
   ]
  },
  {
   "cell_type": "raw",
   "id": "25784514-6ade-479b-b907-d3a28ae01a5f",
   "metadata": {
    "editable": true,
    "raw_mimetype": "",
    "slideshow": {
     "slide_type": "notes"
    },
    "tags": []
   },
   "source": [
    "Here we define some attributes for the graph and the nodes in it.  The edges determine ranking of nodes which Graphviz uses to arrange the nodes.  rankdir=\"LR\" means that nodes will be arranged left to right by rank."
   ]
  },
  {
   "cell_type": "code",
   "execution_count": 8,
   "id": "b4fa8104-bd65-418d-abb2-adb55c6c334b",
   "metadata": {
    "editable": true,
    "slideshow": {
     "slide_type": "slide"
    },
    "tags": []
   },
   "outputs": [
    {
     "data": {
      "image/svg+xml": [
       "<?xml version=\"1.0\" encoding=\"UTF-8\" standalone=\"no\"?>\n",
       "<!DOCTYPE svg PUBLIC \"-//W3C//DTD SVG 1.1//EN\"\n",
       " \"http://www.w3.org/Graphics/SVG/1.1/DTD/svg11.dtd\">\n",
       "<!-- Generated by graphviz version 2.43.0 (0)\n",
       " -->\n",
       "<!-- Title: graphviz3 Pages: 1 -->\n",
       "<svg width=\"152pt\" height=\"44pt\"\n",
       " viewBox=\"0.00 0.00 152.00 44.00\" xmlns=\"http://www.w3.org/2000/svg\" xmlns:xlink=\"http://www.w3.org/1999/xlink\">\n",
       "<g id=\"graph0\" class=\"graph\" transform=\"scale(1 1) rotate(0) translate(4 40)\">\n",
       "<title>graphviz3</title>\n",
       "<polygon fill=\"white\" stroke=\"transparent\" points=\"-4,4 -4,-40 148,-40 148,4 -4,4\"/>\n",
       "<!-- A -->\n",
       "<g id=\"node1\" class=\"node\">\n",
       "<title>A</title>\n",
       "<polygon fill=\"none\" stroke=\"black\" points=\"54,-36 0,-36 0,0 54,0 54,-36\"/>\n",
       "<text text-anchor=\"middle\" x=\"27\" y=\"-14.3\" font-family=\"Times,serif\" font-size=\"14.00\">A</text>\n",
       "</g>\n",
       "<!-- B -->\n",
       "<g id=\"node2\" class=\"node\">\n",
       "<title>B</title>\n",
       "<polygon fill=\"none\" stroke=\"black\" points=\"144,-36 90,-36 90,0 144,0 144,-36\"/>\n",
       "<text text-anchor=\"middle\" x=\"117\" y=\"-14.3\" font-family=\"Times,serif\" font-size=\"14.00\">B</text>\n",
       "</g>\n",
       "<!-- A&#45;&gt;B -->\n",
       "<g id=\"edge1\" class=\"edge\">\n",
       "<title>A&#45;&gt;B</title>\n",
       "<path fill=\"none\" stroke=\"black\" d=\"M54.4,-18C59.32,-18 64.59,-18 69.9,-18\"/>\n",
       "<polygon fill=\"black\" stroke=\"black\" points=\"89.92,-18 69.92,-27 79.92,-18 69.92,-18 69.92,-18 69.92,-18 79.92,-18 69.92,-9 89.92,-18 89.92,-18\"/>\n",
       "</g>\n",
       "</g>\n",
       "</svg>\n"
      ],
      "text/plain": [
       "<graphviz.graphs.Digraph at 0x7f0e942b8a60>"
      ]
     },
     "execution_count": 8,
     "metadata": {},
     "output_type": "execute_result"
    }
   ],
   "source": [
    "# You can change node, graph, and edge attributes as you build the graph\n",
    "graph3.edge_attr.update(arrowhead='vee', arrowsize='2')\n",
    "graph3"
   ]
  },
  {
   "cell_type": "code",
   "execution_count": 9,
   "id": "e9cf67f2-db8a-423e-a833-57631371c9ef",
   "metadata": {
    "editable": true,
    "slideshow": {
     "slide_type": "slide"
    },
    "tags": []
   },
   "outputs": [
    {
     "name": "stdout",
     "output_type": "stream",
     "text": [
      "digraph graphviz3 {\n",
      "\tgraph [rankdir=LR]\n",
      "\tnode [shape=rectangle]\n",
      "\tedge [arrowhead=vee arrowsize=2]\n",
      "\tA\n",
      "\tB\n",
      "\tA -> B\n",
      "}\n",
      "\n"
     ]
    }
   ],
   "source": [
    "print(graph3.source)"
   ]
  },
  {
   "cell_type": "code",
   "execution_count": 10,
   "id": "7f5b53f7-1279-44c6-b0b8-27c6c12b84ff",
   "metadata": {
    "editable": true,
    "slideshow": {
     "slide_type": "slide"
    },
    "tags": []
   },
   "outputs": [
    {
     "name": "stdout",
     "output_type": "stream",
     "text": [
      "digraph graphviz4 {\n",
      "\tnode [shape=oval]\n",
      "}\n",
      "\n",
      "\n",
      "digraph graphviz5 {\n",
      "\trankdir=LR\n",
      "}\n",
      "\n"
     ]
    }
   ],
   "source": [
    "graph4 = Digraph('graphviz4', format='svg')\n",
    "graph4.attr('node', shape='oval')\n",
    "print(graph4.source)\n",
    "\n",
    "graph5 = Digraph('graphviz5', format='svg')\n",
    "graph5.attr(rankdir='LR')\n",
    "print(f\"\\n{graph5}\")"
   ]
  },
  {
   "cell_type": "raw",
   "id": "24a36bc4-123e-4073-8952-8571ce86552e",
   "metadata": {
    "editable": true,
    "raw_mimetype": "",
    "slideshow": {
     "slide_type": "notes"
    },
    "tags": []
   },
   "source": [
    "In this example we call attr using 'node' to specify that this attribute applies only to the nodes in the graph.  In the latter call the attribute will apply to the graph itself."
   ]
  },
  {
   "cell_type": "code",
   "execution_count": 11,
   "id": "b9d3f101-d752-4186-af9c-a3db21c6e92a",
   "metadata": {
    "editable": true,
    "slideshow": {
     "slide_type": "slide"
    },
    "tags": []
   },
   "outputs": [],
   "source": [
    "def build_digraph(num, graph_attr=None):\n",
    "    default_graph_attr = {'rankdir': 'LR'}\n",
    "    if graph_attr:\n",
    "        default_graph_attr.update(graph_attr)\n",
    "    return Digraph(\n",
    "        f'graphviz{num}',\n",
    "        format='svg',\n",
    "        graph_attr=default_graph_attr,\n",
    "    )"
   ]
  },
  {
   "cell_type": "raw",
   "id": "e9e1d8ae-0a2a-4a88-9294-37dc8ff8db5f",
   "metadata": {
    "editable": true,
    "raw_mimetype": "",
    "slideshow": {
     "slide_type": "notes"
    },
    "tags": []
   },
   "source": [
    "To cutback on the length of these exmples I've added a factory function to create Digraphs that are arranged left-to-right and use svg for the output format."
   ]
  },
  {
   "cell_type": "code",
   "execution_count": 12,
   "id": "eaade05a-ce8e-4e62-ac66-d92f048184c9",
   "metadata": {
    "editable": true,
    "slideshow": {
     "slide_type": "slide"
    },
    "tags": []
   },
   "outputs": [
    {
     "data": {
      "image/svg+xml": [
       "<?xml version=\"1.0\" encoding=\"UTF-8\" standalone=\"no\"?>\n",
       "<!DOCTYPE svg PUBLIC \"-//W3C//DTD SVG 1.1//EN\"\n",
       " \"http://www.w3.org/Graphics/SVG/1.1/DTD/svg11.dtd\">\n",
       "<!-- Generated by graphviz version 2.43.0 (0)\n",
       " -->\n",
       "<!-- Title: graphviz6 Pages: 1 -->\n",
       "<svg width=\"279pt\" height=\"79pt\"\n",
       " viewBox=\"0.00 0.00 279.28 79.00\" xmlns=\"http://www.w3.org/2000/svg\" xmlns:xlink=\"http://www.w3.org/1999/xlink\">\n",
       "<g id=\"graph0\" class=\"graph\" transform=\"scale(1 1) rotate(0) translate(4 75)\">\n",
       "<title>graphviz6</title>\n",
       "<polygon fill=\"white\" stroke=\"transparent\" points=\"-4,4 -4,-75 275.28,-75 275.28,4 -4,4\"/>\n",
       "<!-- Northeast -->\n",
       "<g id=\"node1\" class=\"node\">\n",
       "<title>Northeast</title>\n",
       "<ellipse fill=\"none\" stroke=\"black\" cx=\"57.84\" cy=\"-18\" rx=\"57.69\" ry=\"18\"/>\n",
       "<text text-anchor=\"middle\" x=\"57.84\" y=\"-14.3\" font-family=\"Times,serif\" font-size=\"14.00\">Northeast</text>\n",
       "</g>\n",
       "<!-- Southwest -->\n",
       "<g id=\"node2\" class=\"node\">\n",
       "<title>Southwest</title>\n",
       "<ellipse fill=\"none\" stroke=\"black\" cx=\"211.48\" cy=\"-53\" rx=\"59.59\" ry=\"18\"/>\n",
       "<text text-anchor=\"middle\" x=\"211.48\" y=\"-49.3\" font-family=\"Times,serif\" font-size=\"14.00\">Southwest</text>\n",
       "</g>\n",
       "<!-- Northeast&#45;&gt;Southwest -->\n",
       "<g id=\"edge1\" class=\"edge\">\n",
       "<title>Northeast:ne&#45;&gt;Southwest:sw</title>\n",
       "<path fill=\"none\" stroke=\"black\" d=\"M73.84,-35C73.84,-35 155.02,-35 184.2,-35\"/>\n",
       "<polygon fill=\"black\" stroke=\"black\" points=\"184.48,-38.5 194.48,-35 184.48,-31.5 184.48,-38.5\"/>\n",
       "</g>\n",
       "</g>\n",
       "</svg>\n"
      ],
      "text/plain": [
       "<graphviz.graphs.Digraph at 0x7f0e942bd670>"
      ]
     },
     "execution_count": 12,
     "metadata": {},
     "output_type": "execute_result"
    }
   ],
   "source": [
    "graph6 = build_digraph(6, graph_attr={'splines': 'false'})\n",
    "graph6.edge('Northeast:ne', 'Southwest:sw')\n",
    "graph6"
   ]
  },
  {
   "cell_type": "raw",
   "id": "d5b3d95c-b8b8-479e-a893-07fad2d4c5e9",
   "metadata": {
    "editable": true,
    "raw_mimetype": "",
    "slideshow": {
     "slide_type": "notes"
    },
    "tags": []
   },
   "source": [
    "By providing a compass direction after the node name you can specify where on the node's perimeter you want the edge to connect."
   ]
  },
  {
   "cell_type": "code",
   "execution_count": 13,
   "id": "ec006885-8fc8-4b6f-bd91-348ebfdb3db2",
   "metadata": {
    "editable": true,
    "slideshow": {
     "slide_type": "slide"
    },
    "tags": []
   },
   "outputs": [
    {
     "data": {
      "image/svg+xml": [
       "<?xml version=\"1.0\" encoding=\"UTF-8\" standalone=\"no\"?>\n",
       "<!DOCTYPE svg PUBLIC \"-//W3C//DTD SVG 1.1//EN\"\n",
       " \"http://www.w3.org/Graphics/SVG/1.1/DTD/svg11.dtd\">\n",
       "<!-- Generated by graphviz version 2.43.0 (0)\n",
       " -->\n",
       "<!-- Title: graphviz8 Pages: 1 -->\n",
       "<svg width=\"121pt\" height=\"83pt\"\n",
       " viewBox=\"0.00 0.00 121.14 82.95\" xmlns=\"http://www.w3.org/2000/svg\" xmlns:xlink=\"http://www.w3.org/1999/xlink\">\n",
       "<g id=\"graph0\" class=\"graph\" transform=\"scale(1 1) rotate(0) translate(4 78.95)\">\n",
       "<title>graphviz8</title>\n",
       "<polygon fill=\"white\" stroke=\"transparent\" points=\"-4,4 -4,-78.95 117.14,-78.95 117.14,4 -4,4\"/>\n",
       "<!-- A -->\n",
       "<g id=\"node1\" class=\"node\">\n",
       "<title>A</title>\n",
       "<ellipse fill=\"none\" stroke=\"black\" cx=\"56.57\" cy=\"-37.48\" rx=\"56.64\" ry=\"37.45\"/>\n",
       "<text text-anchor=\"middle\" x=\"56.57\" y=\"-48.78\" font-family=\"Times,serif\" font-size=\"14.00\">centered</text>\n",
       "<text text-anchor=\"start\" x=\"24.57\" y=\"-33.78\" font-family=\"Times,serif\" font-size=\"14.00\">left</text>\n",
       "<text text-anchor=\"middle\" x=\"56.57\" y=\"-18.78\" font-family=\"Times,serif\" font-size=\"14.00\">right&#13;</text>\n",
       "</g>\n",
       "</g>\n",
       "</svg>\n"
      ],
      "text/plain": [
       "<graphviz.graphs.Digraph at 0x7f0e942b82b0>"
      ]
     },
     "execution_count": 13,
     "metadata": {},
     "output_type": "execute_result"
    }
   ],
   "source": [
    "graph8 = build_digraph(8)\n",
    "graph8.node('A', 'centered\\nleft\\lright\\r')\n",
    "graph8"
   ]
  },
  {
   "cell_type": "raw",
   "id": "082c9eb8-9e49-4f14-9b1b-0953110da912",
   "metadata": {
    "editable": true,
    "raw_mimetype": "",
    "slideshow": {
     "slide_type": "notes"
    },
    "tags": []
   },
   "source": [
    "text alignment can be controlled using \\n, \\l, or \\r.  Please note that the escape character controls the line of text before the escape character."
   ]
  },
  {
   "cell_type": "code",
   "execution_count": 14,
   "id": "8a223d48-f367-44f4-8950-3c13e2b93886",
   "metadata": {
    "editable": true,
    "slideshow": {
     "slide_type": "slide"
    },
    "tags": []
   },
   "outputs": [
    {
     "data": {
      "image/svg+xml": [
       "<?xml version=\"1.0\" encoding=\"UTF-8\" standalone=\"no\"?>\n",
       "<!DOCTYPE svg PUBLIC \"-//W3C//DTD SVG 1.1//EN\"\n",
       " \"http://www.w3.org/Graphics/SVG/1.1/DTD/svg11.dtd\">\n",
       "<!-- Generated by graphviz version 2.43.0 (0)\n",
       " -->\n",
       "<!-- Title: graphviz9 Pages: 1 -->\n",
       "<svg width=\"142pt\" height=\"57pt\"\n",
       " viewBox=\"0.00 0.00 142.35 57.50\" xmlns=\"http://www.w3.org/2000/svg\" xmlns:xlink=\"http://www.w3.org/1999/xlink\">\n",
       "<g id=\"graph0\" class=\"graph\" transform=\"scale(1 1) rotate(0) translate(4 53.5)\">\n",
       "<title>graphviz9</title>\n",
       "<polygon fill=\"white\" stroke=\"transparent\" points=\"-4,4 -4,-53.5 138.35,-53.5 138.35,4 -4,4\"/>\n",
       "<!-- B -->\n",
       "<g id=\"node1\" class=\"node\">\n",
       "<title>B</title>\n",
       "<ellipse fill=\"none\" stroke=\"black\" cx=\"67.18\" cy=\"-24.75\" rx=\"67.35\" ry=\"25\"/>\n",
       "<polygon fill=\"none\" stroke=\"black\" points=\"31.18,-13.75 31.18,-34.75 66.18,-34.75 66.18,-13.75 31.18,-13.75\"/>\n",
       "<text text-anchor=\"start\" x=\"34.18\" y=\"-20.55\" font-family=\"Times,serif\" font-size=\"14.00\">One</text>\n",
       "<polygon fill=\"none\" stroke=\"black\" points=\"68.18,-13.75 68.18,-34.75 104.18,-34.75 104.18,-13.75 68.18,-13.75\"/>\n",
       "<text text-anchor=\"start\" x=\"71.18\" y=\"-20.55\" font-family=\"Times,serif\" font-size=\"14.00\">Two</text>\n",
       "<polygon fill=\"none\" stroke=\"black\" points=\"27.68,-11.25 27.68,-38.25 106.68,-38.25 106.68,-11.25 27.68,-11.25\"/>\n",
       "</g>\n",
       "</g>\n",
       "</svg>\n"
      ],
      "text/plain": [
       "<graphviz.graphs.Digraph at 0x7f0e942bdca0>"
      ]
     },
     "execution_count": 14,
     "metadata": {},
     "output_type": "execute_result"
    }
   ],
   "source": [
    "graph9 = build_digraph(9)\n",
    "graph9.node('B', '<<table><tr><td>One</td><td>Two</td></tr></table>>')\n",
    "graph9"
   ]
  },
  {
   "cell_type": "raw",
   "id": "fb0eec14-6c2a-48c9-9d21-ffa8e6153683",
   "metadata": {
    "editable": true,
    "raw_mimetype": "",
    "slideshow": {
     "slide_type": "notes"
    },
    "tags": []
   },
   "source": [
    "By enclosing the label in <, > you can use HTML elements in the label."
   ]
  },
  {
   "cell_type": "markdown",
   "id": "cec78e07-bf28-42a7-9a3f-d6cca1ef4511",
   "metadata": {
    "editable": true,
    "slideshow": {
     "slide_type": "slide"
    },
    "tags": []
   },
   "source": [
    "![valid html](valid_html_venn.svg)"
   ]
  },
  {
   "cell_type": "raw",
   "id": "de7f8567-ce60-445c-9e5d-521ab5758572",
   "metadata": {
    "editable": true,
    "raw_mimetype": "",
    "slideshow": {
     "slide_type": "notes"
    },
    "tags": []
   },
   "source": [
    "Only a small set of HTML is supported by Graphviz labels.  I've provided a link to that section in the last slides.  Also Graphviz uses a number of deprecated HTML tags (i.e. <b> and <i>)."
   ]
  },
  {
   "cell_type": "code",
   "execution_count": 15,
   "id": "eb7345f4-400e-474a-a100-ffb7965392c3",
   "metadata": {
    "editable": true,
    "slideshow": {
     "slide_type": "slide"
    },
    "tags": []
   },
   "outputs": [
    {
     "data": {
      "image/svg+xml": [
       "<?xml version=\"1.0\" encoding=\"UTF-8\" standalone=\"no\"?>\n",
       "<!DOCTYPE svg PUBLIC \"-//W3C//DTD SVG 1.1//EN\"\n",
       " \"http://www.w3.org/Graphics/SVG/1.1/DTD/svg11.dtd\">\n",
       "<!-- Generated by graphviz version 2.43.0 (0)\n",
       " -->\n",
       "<!-- Title: graphviz10 Pages: 1 -->\n",
       "<svg width=\"122pt\" height=\"44pt\"\n",
       " viewBox=\"0.00 0.00 122.39 44.00\" xmlns=\"http://www.w3.org/2000/svg\" xmlns:xlink=\"http://www.w3.org/1999/xlink\">\n",
       "<g id=\"graph0\" class=\"graph\" transform=\"scale(1 1) rotate(0) translate(4 40)\">\n",
       "<title>graphviz10</title>\n",
       "<polygon fill=\"white\" stroke=\"transparent\" points=\"-4,4 -4,-40 118.39,-40 118.39,4 -4,4\"/>\n",
       "<!-- diamond -->\n",
       "<g id=\"node1\" class=\"node\">\n",
       "<title>diamond</title>\n",
       "<ellipse fill=\"none\" stroke=\"black\" cx=\"57.19\" cy=\"-18\" rx=\"57.39\" ry=\"18\"/>\n",
       "<text text-anchor=\"middle\" x=\"57.19\" y=\"-14.3\" font-family=\"Times,serif\" font-size=\"14.00\">&lt;blurgh&gt;</text>\n",
       "</g>\n",
       "</g>\n",
       "</svg>\n"
      ],
      "text/plain": [
       "<graphviz.graphs.Digraph at 0x7f0e942b8190>"
      ]
     },
     "execution_count": 15,
     "metadata": {},
     "output_type": "execute_result"
    }
   ],
   "source": [
    "from graphviz import nohtml\n",
    "graph10 = build_digraph(10)\n",
    "graph10.node('diamond', label=nohtml('<blurgh>'))\n",
    "graph10"
   ]
  },
  {
   "cell_type": "raw",
   "id": "9b9eee71-73d4-4ae5-99a6-4e585eaed890",
   "metadata": {
    "editable": true,
    "raw_mimetype": "",
    "slideshow": {
     "slide_type": "notes"
    },
    "tags": []
   },
   "source": [
    "Use the nohtml function if you want to have a label that starts w/ '<' and ends with '>'"
   ]
  },
  {
   "cell_type": "code",
   "execution_count": 16,
   "id": "99cb9329-6d7f-4cef-b8c8-d3ac690b6e7b",
   "metadata": {
    "editable": true,
    "slideshow": {
     "slide_type": "slide"
    },
    "tags": []
   },
   "outputs": [
    {
     "data": {
      "image/svg+xml": [
       "<?xml version=\"1.0\" encoding=\"UTF-8\" standalone=\"no\"?>\n",
       "<!DOCTYPE svg PUBLIC \"-//W3C//DTD SVG 1.1//EN\"\n",
       " \"http://www.w3.org/Graphics/SVG/1.1/DTD/svg11.dtd\">\n",
       "<!-- Generated by graphviz version 2.43.0 (0)\n",
       " -->\n",
       "<!-- Title: parent Pages: 1 -->\n",
       "<svg width=\"152pt\" height=\"116pt\"\n",
       " viewBox=\"0.00 0.00 151.75 116.00\" xmlns=\"http://www.w3.org/2000/svg\" xmlns:xlink=\"http://www.w3.org/1999/xlink\">\n",
       "<g id=\"graph0\" class=\"graph\" transform=\"scale(1 1) rotate(0) translate(4 112)\">\n",
       "<title>parent</title>\n",
       "<polygon fill=\"white\" stroke=\"transparent\" points=\"-4,4 -4,-112 147.75,-112 147.75,4 -4,4\"/>\n",
       "<!-- spam -->\n",
       "<g id=\"node1\" class=\"node\">\n",
       "<title>spam</title>\n",
       "<ellipse fill=\"none\" stroke=\"black\" cx=\"35.75\" cy=\"-90\" rx=\"36\" ry=\"18\"/>\n",
       "<text text-anchor=\"middle\" x=\"35.75\" y=\"-86.3\" font-family=\"Times,serif\" font-size=\"14.00\">spam</text>\n",
       "</g>\n",
       "<!-- eggs -->\n",
       "<g id=\"node2\" class=\"node\">\n",
       "<title>eggs</title>\n",
       "<ellipse fill=\"none\" stroke=\"black\" cx=\"35.75\" cy=\"-18\" rx=\"32.49\" ry=\"18\"/>\n",
       "<text text-anchor=\"middle\" x=\"35.75\" y=\"-14.3\" font-family=\"Times,serif\" font-size=\"14.00\">eggs</text>\n",
       "</g>\n",
       "<!-- spam&#45;&#45;eggs -->\n",
       "<g id=\"edge1\" class=\"edge\">\n",
       "<title>spam&#45;&#45;eggs</title>\n",
       "<path fill=\"none\" stroke=\"black\" d=\"M35.75,-71.7C35.75,-60.85 35.75,-46.92 35.75,-36.1\"/>\n",
       "</g>\n",
       "<!-- foo -->\n",
       "<g id=\"node3\" class=\"node\">\n",
       "<title>foo</title>\n",
       "<polygon fill=\"none\" stroke=\"black\" points=\"143.75,-108 89.75,-108 89.75,-72 143.75,-72 143.75,-108\"/>\n",
       "<text text-anchor=\"middle\" x=\"116.75\" y=\"-86.3\" font-family=\"Times,serif\" font-size=\"14.00\">foo</text>\n",
       "</g>\n",
       "<!-- bar -->\n",
       "<g id=\"node4\" class=\"node\">\n",
       "<title>bar</title>\n",
       "<polygon fill=\"none\" stroke=\"black\" points=\"143.75,-36 89.75,-36 89.75,0 143.75,0 143.75,-36\"/>\n",
       "<text text-anchor=\"middle\" x=\"116.75\" y=\"-14.3\" font-family=\"Times,serif\" font-size=\"14.00\">bar</text>\n",
       "</g>\n",
       "<!-- foo&#45;&#45;bar -->\n",
       "<g id=\"edge2\" class=\"edge\">\n",
       "<title>foo&#45;&#45;bar</title>\n",
       "<path fill=\"none\" stroke=\"black\" d=\"M116.75,-71.7C116.75,-60.85 116.75,-46.92 116.75,-36.1\"/>\n",
       "</g>\n",
       "</g>\n",
       "</svg>\n"
      ],
      "text/plain": [
       "<graphviz.graphs.Graph at 0x7f0e942b88b0>"
      ]
     },
     "execution_count": 16,
     "metadata": {},
     "output_type": "execute_result"
    }
   ],
   "source": [
    "from graphviz import Graph\n",
    "\n",
    "# Example from graphviz (Python library) User Guide\n",
    "graph11 = Graph(name='parent')\n",
    "graph11.edge('spam', 'eggs')\n",
    "\n",
    "subgraph_a = Graph(name='child', node_attr={'shape': 'box'})\n",
    "subgraph_a.edge('foo', 'bar')\n",
    "\n",
    "graph11.subgraph(subgraph_a)\n",
    "graph11"
   ]
  },
  {
   "cell_type": "raw",
   "id": "7fa9b913-1fbc-4c05-a689-38d376d8f231",
   "metadata": {
    "editable": true,
    "raw_mimetype": "",
    "slideshow": {
     "slide_type": "notes"
    },
    "tags": []
   },
   "source": [
    "You can construct subgraphs by creating 2 Graph objects and using 1 of the Graphs"
   ]
  },
  {
   "cell_type": "code",
   "execution_count": 17,
   "id": "67a887b1-96cf-4a54-89f8-21d8a4211a91",
   "metadata": {
    "editable": true,
    "slideshow": {
     "slide_type": "slide"
    },
    "tags": []
   },
   "outputs": [
    {
     "name": "stdout",
     "output_type": "stream",
     "text": [
      "graph parent {\n",
      "\tspam -- eggs\n",
      "\tsubgraph child {\n",
      "\t\tnode [shape=box]\n",
      "\t\tfoo -- bar\n",
      "\t}\n",
      "}\n",
      "\n"
     ]
    }
   ],
   "source": [
    "print(graph11.source)"
   ]
  },
  {
   "cell_type": "code",
   "execution_count": 18,
   "id": "192c41ea-8ea1-42bc-82a5-a7db58985d8c",
   "metadata": {
    "editable": true,
    "slideshow": {
     "slide_type": "slide"
    },
    "tags": []
   },
   "outputs": [
    {
     "data": {
      "image/svg+xml": [
       "<?xml version=\"1.0\" encoding=\"UTF-8\" standalone=\"no\"?>\n",
       "<!DOCTYPE svg PUBLIC \"-//W3C//DTD SVG 1.1//EN\"\n",
       " \"http://www.w3.org/Graphics/SVG/1.1/DTD/svg11.dtd\">\n",
       "<!-- Generated by graphviz version 2.43.0 (0)\n",
       " -->\n",
       "<!-- Title: parent Pages: 1 -->\n",
       "<svg width=\"152pt\" height=\"116pt\"\n",
       " viewBox=\"0.00 0.00 151.75 116.00\" xmlns=\"http://www.w3.org/2000/svg\" xmlns:xlink=\"http://www.w3.org/1999/xlink\">\n",
       "<g id=\"graph0\" class=\"graph\" transform=\"scale(1 1) rotate(0) translate(4 112)\">\n",
       "<title>parent</title>\n",
       "<polygon fill=\"white\" stroke=\"transparent\" points=\"-4,4 -4,-112 147.75,-112 147.75,4 -4,4\"/>\n",
       "<!-- spam -->\n",
       "<g id=\"node1\" class=\"node\">\n",
       "<title>spam</title>\n",
       "<ellipse fill=\"none\" stroke=\"black\" cx=\"35.75\" cy=\"-90\" rx=\"36\" ry=\"18\"/>\n",
       "<text text-anchor=\"middle\" x=\"35.75\" y=\"-86.3\" font-family=\"Times,serif\" font-size=\"14.00\">spam</text>\n",
       "</g>\n",
       "<!-- eggs -->\n",
       "<g id=\"node2\" class=\"node\">\n",
       "<title>eggs</title>\n",
       "<ellipse fill=\"none\" stroke=\"black\" cx=\"35.75\" cy=\"-18\" rx=\"32.49\" ry=\"18\"/>\n",
       "<text text-anchor=\"middle\" x=\"35.75\" y=\"-14.3\" font-family=\"Times,serif\" font-size=\"14.00\">eggs</text>\n",
       "</g>\n",
       "<!-- spam&#45;&#45;eggs -->\n",
       "<g id=\"edge1\" class=\"edge\">\n",
       "<title>spam&#45;&#45;eggs</title>\n",
       "<path fill=\"none\" stroke=\"black\" d=\"M35.75,-71.7C35.75,-60.85 35.75,-46.92 35.75,-36.1\"/>\n",
       "</g>\n",
       "<!-- foo -->\n",
       "<g id=\"node3\" class=\"node\">\n",
       "<title>foo</title>\n",
       "<polygon fill=\"none\" stroke=\"black\" points=\"143.75,-108 89.75,-108 89.75,-72 143.75,-72 143.75,-108\"/>\n",
       "<text text-anchor=\"middle\" x=\"116.75\" y=\"-86.3\" font-family=\"Times,serif\" font-size=\"14.00\">foo</text>\n",
       "</g>\n",
       "<!-- bar -->\n",
       "<g id=\"node4\" class=\"node\">\n",
       "<title>bar</title>\n",
       "<polygon fill=\"none\" stroke=\"black\" points=\"143.75,-36 89.75,-36 89.75,0 143.75,0 143.75,-36\"/>\n",
       "<text text-anchor=\"middle\" x=\"116.75\" y=\"-14.3\" font-family=\"Times,serif\" font-size=\"14.00\">bar</text>\n",
       "</g>\n",
       "<!-- foo&#45;&#45;bar -->\n",
       "<g id=\"edge2\" class=\"edge\">\n",
       "<title>foo&#45;&#45;bar</title>\n",
       "<path fill=\"none\" stroke=\"black\" d=\"M116.75,-71.7C116.75,-60.85 116.75,-46.92 116.75,-36.1\"/>\n",
       "</g>\n",
       "</g>\n",
       "</svg>\n"
      ],
      "text/plain": [
       "<graphviz.graphs.Graph at 0x7f0e9424c280>"
      ]
     },
     "execution_count": 18,
     "metadata": {},
     "output_type": "execute_result"
    }
   ],
   "source": [
    "graph12 = Graph('parent')  \n",
    "graph12.edge('spam', 'eggs')\n",
    "\n",
    "with graph12.subgraph(\n",
    "    name='child',\n",
    "    node_attr={'shape': 'box'}\n",
    ") as subgraph_a:\n",
    "    subgraph_a.edge('foo', 'bar')\n",
    "graph12"
   ]
  },
  {
   "cell_type": "code",
   "execution_count": 19,
   "id": "2af673db-8157-4643-b001-43d73226dc5e",
   "metadata": {
    "editable": true,
    "slideshow": {
     "slide_type": "slide"
    },
    "tags": []
   },
   "outputs": [
    {
     "data": {
      "image/svg+xml": [
       "<?xml version=\"1.0\" encoding=\"UTF-8\" standalone=\"no\"?>\n",
       "<!DOCTYPE svg PUBLIC \"-//W3C//DTD SVG 1.1//EN\"\n",
       " \"http://www.w3.org/Graphics/SVG/1.1/DTD/svg11.dtd\">\n",
       "<!-- Generated by graphviz version 2.43.0 (0)\n",
       " -->\n",
       "<!-- Title: parent Pages: 1 -->\n",
       "<svg width=\"198pt\" height=\"114pt\"\n",
       " viewBox=\"0.00 0.00 198.24 114.00\" xmlns=\"http://www.w3.org/2000/svg\" xmlns:xlink=\"http://www.w3.org/1999/xlink\">\n",
       "<g id=\"graph0\" class=\"graph\" transform=\"scale(1 1) rotate(0) translate(4 110)\">\n",
       "<title>parent</title>\n",
       "<polygon fill=\"white\" stroke=\"transparent\" points=\"-4,4 -4,-110 194.24,-110 194.24,4 -4,4\"/>\n",
       "<g id=\"clust1\" class=\"cluster\">\n",
       "<title>cluster_child</title>\n",
       "<polygon fill=\"none\" stroke=\"black\" points=\"8,-46 8,-98 182.24,-98 182.24,-46 8,-46\"/>\n",
       "</g>\n",
       "<!-- spam -->\n",
       "<g id=\"node1\" class=\"node\">\n",
       "<title>spam</title>\n",
       "<ellipse fill=\"none\" stroke=\"black\" cx=\"43\" cy=\"-18\" rx=\"36\" ry=\"18\"/>\n",
       "<text text-anchor=\"middle\" x=\"43\" y=\"-14.3\" font-family=\"Times,serif\" font-size=\"14.00\">spam</text>\n",
       "</g>\n",
       "<!-- eggs -->\n",
       "<g id=\"node2\" class=\"node\">\n",
       "<title>eggs</title>\n",
       "<ellipse fill=\"none\" stroke=\"black\" cx=\"147.24\" cy=\"-18\" rx=\"32.49\" ry=\"18\"/>\n",
       "<text text-anchor=\"middle\" x=\"147.24\" y=\"-14.3\" font-family=\"Times,serif\" font-size=\"14.00\">eggs</text>\n",
       "</g>\n",
       "<!-- spam&#45;&#45;eggs -->\n",
       "<g id=\"edge1\" class=\"edge\">\n",
       "<title>spam&#45;&#45;eggs</title>\n",
       "<path fill=\"none\" stroke=\"black\" d=\"M78.9,-18C90.47,-18 103.28,-18 114.59,-18\"/>\n",
       "</g>\n",
       "<!-- foo -->\n",
       "<g id=\"node3\" class=\"node\">\n",
       "<title>foo</title>\n",
       "<polygon fill=\"none\" stroke=\"black\" points=\"70,-90 16,-90 16,-54 70,-54 70,-90\"/>\n",
       "<text text-anchor=\"middle\" x=\"43\" y=\"-68.3\" font-family=\"Times,serif\" font-size=\"14.00\">foo</text>\n",
       "</g>\n",
       "<!-- bar -->\n",
       "<g id=\"node4\" class=\"node\">\n",
       "<title>bar</title>\n",
       "<polygon fill=\"none\" stroke=\"black\" points=\"174.24,-90 120.24,-90 120.24,-54 174.24,-54 174.24,-90\"/>\n",
       "<text text-anchor=\"middle\" x=\"147.24\" y=\"-68.3\" font-family=\"Times,serif\" font-size=\"14.00\">bar</text>\n",
       "</g>\n",
       "<!-- foo&#45;&#45;bar -->\n",
       "<g id=\"edge2\" class=\"edge\">\n",
       "<title>foo&#45;&#45;bar</title>\n",
       "<path fill=\"none\" stroke=\"black\" d=\"M70.07,-72C85.45,-72 104.85,-72 120.23,-72\"/>\n",
       "</g>\n",
       "</g>\n",
       "</svg>\n"
      ],
      "text/plain": [
       "<graphviz.graphs.Graph at 0x7f0e9424c7c0>"
      ]
     },
     "execution_count": 19,
     "metadata": {},
     "output_type": "execute_result"
    }
   ],
   "source": [
    "graph13 = Graph(\n",
    "    'parent', graph_attr={'rankdir': 'LR'},\n",
    ")\n",
    "graph13.edge('spam', 'eggs')\n",
    "\n",
    "with graph13.subgraph(\n",
    "    name='cluster_child',\n",
    "    node_attr={'shape': 'box'},\n",
    ") as subgraph_a:\n",
    "    subgraph_a.edge('foo', 'bar')\n",
    "graph13"
   ]
  },
  {
   "cell_type": "code",
   "execution_count": 20,
   "id": "06b211af-87e7-4cf5-8024-e5fd957d1d7e",
   "metadata": {
    "editable": true,
    "slideshow": {
     "slide_type": "slide"
    },
    "tags": []
   },
   "outputs": [
    {
     "data": {
      "image/svg+xml": [
       "<?xml version=\"1.0\" encoding=\"UTF-8\" standalone=\"no\"?>\n",
       "<!DOCTYPE svg PUBLIC \"-//W3C//DTD SVG 1.1//EN\"\n",
       " \"http://www.w3.org/Graphics/SVG/1.1/DTD/svg11.dtd\">\n",
       "<!-- Generated by graphviz version 2.43.0 (0)\n",
       " -->\n",
       "<!-- Title: 14 Pages: 1 -->\n",
       "<svg width=\"152pt\" height=\"148pt\"\n",
       " viewBox=\"0.00 0.00 152.24 148.20\" xmlns=\"http://www.w3.org/2000/svg\" xmlns:xlink=\"http://www.w3.org/1999/xlink\">\n",
       "<g id=\"graph0\" class=\"graph\" transform=\"scale(1 1) rotate(0) translate(4 144.2)\">\n",
       "<title>14</title>\n",
       "<polygon fill=\"white\" stroke=\"transparent\" points=\"-4,4 -4,-144.2 148.24,-144.2 148.24,4 -4,4\"/>\n",
       "<!-- a -->\n",
       "<g id=\"node1\" class=\"node\">\n",
       "<title>a</title>\n",
       "<ellipse fill=\"none\" stroke=\"black\" cx=\"27\" cy=\"-18\" rx=\"27\" ry=\"18\"/>\n",
       "<text text-anchor=\"middle\" x=\"27\" y=\"-14.3\" font-family=\"Times,serif\" font-size=\"14.00\">a</text>\n",
       "</g>\n",
       "<!-- b -->\n",
       "<g id=\"node2\" class=\"node\">\n",
       "<title>b</title>\n",
       "<ellipse fill=\"none\" stroke=\"black\" cx=\"27\" cy=\"-122.2\" rx=\"27\" ry=\"18\"/>\n",
       "<text text-anchor=\"middle\" x=\"27\" y=\"-118.5\" font-family=\"Times,serif\" font-size=\"14.00\">b</text>\n",
       "</g>\n",
       "<!-- a&#45;&gt;b -->\n",
       "<g id=\"edge1\" class=\"edge\">\n",
       "<title>a&#45;&gt;b</title>\n",
       "<path fill=\"none\" stroke=\"black\" d=\"M27,-36.15C27,-52.04 27,-75.39 27,-93.76\"/>\n",
       "<polygon fill=\"black\" stroke=\"black\" points=\"23.5,-93.91 27,-103.91 30.5,-93.91 23.5,-93.91\"/>\n",
       "</g>\n",
       "<!-- c -->\n",
       "<g id=\"node3\" class=\"node\">\n",
       "<title>c</title>\n",
       "<ellipse fill=\"none\" stroke=\"black\" cx=\"117.24\" cy=\"-70.1\" rx=\"27\" ry=\"18\"/>\n",
       "<text text-anchor=\"middle\" x=\"117.24\" y=\"-66.4\" font-family=\"Times,serif\" font-size=\"14.00\">c</text>\n",
       "</g>\n",
       "<!-- b&#45;&gt;c -->\n",
       "<g id=\"edge2\" class=\"edge\">\n",
       "<title>b&#45;&gt;c</title>\n",
       "<path fill=\"none\" stroke=\"black\" d=\"M47.48,-110.38C59.39,-103.5 74.61,-94.71 87.8,-87.1\"/>\n",
       "<polygon fill=\"black\" stroke=\"black\" points=\"89.62,-90.09 96.53,-82.06 86.12,-84.03 89.62,-90.09\"/>\n",
       "</g>\n",
       "<!-- c&#45;&gt;a -->\n",
       "<g id=\"edge3\" class=\"edge\">\n",
       "<title>c&#45;&gt;a</title>\n",
       "<path fill=\"none\" stroke=\"black\" d=\"M96.76,-58.28C84.85,-51.4 69.63,-42.61 56.44,-35\"/>\n",
       "<polygon fill=\"black\" stroke=\"black\" points=\"58.12,-31.92 47.71,-29.96 54.62,-37.99 58.12,-31.92\"/>\n",
       "</g>\n",
       "</g>\n",
       "</svg>\n"
      ],
      "text/plain": [
       "<graphviz.graphs.Digraph at 0x7f0e9424c8e0>"
      ]
     },
     "execution_count": 20,
     "metadata": {},
     "output_type": "execute_result"
    }
   ],
   "source": [
    "graph14 = Digraph('14', engine=\"circo\")\n",
    "for pair in \"ab,bc,ca\".split(','):\n",
    "    graph14.edge(pair[0], pair[1])\n",
    "graph\n",
    "graph14"
   ]
  },
  {
   "cell_type": "code",
   "execution_count": 21,
   "id": "6ff79225-63cb-4fd3-b9d5-b38e32c93e59",
   "metadata": {
    "editable": true,
    "slideshow": {
     "slide_type": "slide"
    },
    "tags": []
   },
   "outputs": [],
   "source": [
    "graph15 = Digraph('15', engine='twopi')\n",
    "for i in range(1, 7):\n",
    "    graph15.edge('0', str(i))\n",
    "    for j in range(1, 3):\n",
    "        graph15.edge(str(i), f\"{i}{j}\")"
   ]
  },
  {
   "cell_type": "code",
   "execution_count": 22,
   "id": "aeddf2e5-b994-4d06-beb1-a2d675b7bcdd",
   "metadata": {
    "editable": true,
    "slideshow": {
     "slide_type": "slide"
    },
    "tags": []
   },
   "outputs": [
    {
     "data": {
      "image/svg+xml": [
       "<?xml version=\"1.0\" encoding=\"UTF-8\" standalone=\"no\"?>\n",
       "<!DOCTYPE svg PUBLIC \"-//W3C//DTD SVG 1.1//EN\"\n",
       " \"http://www.w3.org/Graphics/SVG/1.1/DTD/svg11.dtd\">\n",
       "<!-- Generated by graphviz version 2.43.0 (0)\n",
       " -->\n",
       "<!-- Title: 15 Pages: 1 -->\n",
       "<svg width=\"340pt\" height=\"322pt\"\n",
       " viewBox=\"0.00 0.00 340.19 322.19\" xmlns=\"http://www.w3.org/2000/svg\" xmlns:xlink=\"http://www.w3.org/1999/xlink\">\n",
       "<g id=\"graph0\" class=\"graph\" transform=\"scale(1 1) rotate(0) translate(4 318.19)\">\n",
       "<title>15</title>\n",
       "<polygon fill=\"white\" stroke=\"transparent\" points=\"-4,4 -4,-318.19 336.19,-318.19 336.19,4 -4,4\"/>\n",
       "<!-- 0 -->\n",
       "<g id=\"node1\" class=\"node\">\n",
       "<title>0</title>\n",
       "<ellipse fill=\"none\" stroke=\"black\" cx=\"166.09\" cy=\"-157.09\" rx=\"27\" ry=\"18\"/>\n",
       "<text text-anchor=\"middle\" x=\"166.09\" y=\"-153.39\" font-family=\"Times,serif\" font-size=\"14.00\">0</text>\n",
       "</g>\n",
       "<!-- 1 -->\n",
       "<g id=\"node2\" class=\"node\">\n",
       "<title>1</title>\n",
       "<ellipse fill=\"none\" stroke=\"black\" cx=\"228.45\" cy=\"-193.09\" rx=\"27\" ry=\"18\"/>\n",
       "<text text-anchor=\"middle\" x=\"228.45\" y=\"-189.39\" font-family=\"Times,serif\" font-size=\"14.00\">1</text>\n",
       "</g>\n",
       "<!-- 0&#45;&gt;1 -->\n",
       "<g id=\"edge1\" class=\"edge\">\n",
       "<title>0&#45;&gt;1</title>\n",
       "<path fill=\"none\" stroke=\"black\" d=\"M186.51,-168.88C190.45,-171.16 194.66,-173.58 198.82,-175.99\"/>\n",
       "<polygon fill=\"black\" stroke=\"black\" points=\"197.36,-179.19 207.77,-181.16 200.86,-173.12 197.36,-179.19\"/>\n",
       "</g>\n",
       "<!-- 2 -->\n",
       "<g id=\"node5\" class=\"node\">\n",
       "<title>2</title>\n",
       "<ellipse fill=\"none\" stroke=\"black\" cx=\"166.09\" cy=\"-229.09\" rx=\"27\" ry=\"18\"/>\n",
       "<text text-anchor=\"middle\" x=\"166.09\" y=\"-225.39\" font-family=\"Times,serif\" font-size=\"14.00\">2</text>\n",
       "</g>\n",
       "<!-- 0&#45;&gt;2 -->\n",
       "<g id=\"edge4\" class=\"edge\">\n",
       "<title>0&#45;&gt;2</title>\n",
       "<path fill=\"none\" stroke=\"black\" d=\"M166.09,-175.26C166.09,-182.96 166.09,-192.12 166.09,-200.68\"/>\n",
       "<polygon fill=\"black\" stroke=\"black\" points=\"162.59,-200.68 166.09,-210.68 169.59,-200.68 162.59,-200.68\"/>\n",
       "</g>\n",
       "<!-- 3 -->\n",
       "<g id=\"node8\" class=\"node\">\n",
       "<title>3</title>\n",
       "<ellipse fill=\"none\" stroke=\"black\" cx=\"103.74\" cy=\"-193.09\" rx=\"27\" ry=\"18\"/>\n",
       "<text text-anchor=\"middle\" x=\"103.74\" y=\"-189.39\" font-family=\"Times,serif\" font-size=\"14.00\">3</text>\n",
       "</g>\n",
       "<!-- 0&#45;&gt;3 -->\n",
       "<g id=\"edge7\" class=\"edge\">\n",
       "<title>0&#45;&gt;3</title>\n",
       "<path fill=\"none\" stroke=\"black\" d=\"M145.68,-168.88C141.73,-171.16 137.53,-173.58 133.36,-175.99\"/>\n",
       "<polygon fill=\"black\" stroke=\"black\" points=\"131.33,-173.12 124.42,-181.16 134.83,-179.19 131.33,-173.12\"/>\n",
       "</g>\n",
       "<!-- 4 -->\n",
       "<g id=\"node11\" class=\"node\">\n",
       "<title>4</title>\n",
       "<ellipse fill=\"none\" stroke=\"black\" cx=\"103.74\" cy=\"-121.09\" rx=\"27\" ry=\"18\"/>\n",
       "<text text-anchor=\"middle\" x=\"103.74\" y=\"-117.39\" font-family=\"Times,serif\" font-size=\"14.00\">4</text>\n",
       "</g>\n",
       "<!-- 0&#45;&gt;4 -->\n",
       "<g id=\"edge10\" class=\"edge\">\n",
       "<title>0&#45;&gt;4</title>\n",
       "<path fill=\"none\" stroke=\"black\" d=\"M145.68,-145.31C141.73,-143.03 137.53,-140.6 133.36,-138.2\"/>\n",
       "<polygon fill=\"black\" stroke=\"black\" points=\"134.83,-135 124.42,-133.03 131.33,-141.06 134.83,-135\"/>\n",
       "</g>\n",
       "<!-- 5 -->\n",
       "<g id=\"node14\" class=\"node\">\n",
       "<title>5</title>\n",
       "<ellipse fill=\"none\" stroke=\"black\" cx=\"166.09\" cy=\"-85.09\" rx=\"27\" ry=\"18\"/>\n",
       "<text text-anchor=\"middle\" x=\"166.09\" y=\"-81.39\" font-family=\"Times,serif\" font-size=\"14.00\">5</text>\n",
       "</g>\n",
       "<!-- 0&#45;&gt;5 -->\n",
       "<g id=\"edge13\" class=\"edge\">\n",
       "<title>0&#45;&gt;5</title>\n",
       "<path fill=\"none\" stroke=\"black\" d=\"M166.09,-138.92C166.09,-131.22 166.09,-122.07 166.09,-113.51\"/>\n",
       "<polygon fill=\"black\" stroke=\"black\" points=\"169.59,-113.51 166.09,-103.51 162.59,-113.51 169.59,-113.51\"/>\n",
       "</g>\n",
       "<!-- 6 -->\n",
       "<g id=\"node17\" class=\"node\">\n",
       "<title>6</title>\n",
       "<ellipse fill=\"none\" stroke=\"black\" cx=\"228.45\" cy=\"-121.09\" rx=\"27\" ry=\"18\"/>\n",
       "<text text-anchor=\"middle\" x=\"228.45\" y=\"-117.39\" font-family=\"Times,serif\" font-size=\"14.00\">6</text>\n",
       "</g>\n",
       "<!-- 0&#45;&gt;6 -->\n",
       "<g id=\"edge16\" class=\"edge\">\n",
       "<title>0&#45;&gt;6</title>\n",
       "<path fill=\"none\" stroke=\"black\" d=\"M186.51,-145.31C190.45,-143.03 194.66,-140.6 198.82,-138.2\"/>\n",
       "<polygon fill=\"black\" stroke=\"black\" points=\"200.86,-141.06 207.77,-133.03 197.36,-135 200.86,-141.06\"/>\n",
       "</g>\n",
       "<!-- 11 -->\n",
       "<g id=\"node3\" class=\"node\">\n",
       "<title>11</title>\n",
       "<ellipse fill=\"none\" stroke=\"black\" cx=\"305.19\" cy=\"-194.36\" rx=\"27\" ry=\"18\"/>\n",
       "<text text-anchor=\"middle\" x=\"305.19\" y=\"-190.66\" font-family=\"Times,serif\" font-size=\"14.00\">11</text>\n",
       "</g>\n",
       "<!-- 1&#45;&gt;11 -->\n",
       "<g id=\"edge2\" class=\"edge\">\n",
       "<title>1&#45;&gt;11</title>\n",
       "<path fill=\"none\" stroke=\"black\" d=\"M255.72,-193.54C259.68,-193.61 263.81,-193.68 267.92,-193.75\"/>\n",
       "<polygon fill=\"black\" stroke=\"black\" points=\"267.95,-197.25 278,-193.91 268.06,-190.25 267.95,-197.25\"/>\n",
       "</g>\n",
       "<!-- 12 -->\n",
       "<g id=\"node4\" class=\"node\">\n",
       "<title>12</title>\n",
       "<ellipse fill=\"none\" stroke=\"black\" cx=\"267.92\" cy=\"-258.92\" rx=\"27\" ry=\"18\"/>\n",
       "<text text-anchor=\"middle\" x=\"267.92\" y=\"-255.22\" font-family=\"Times,serif\" font-size=\"14.00\">12</text>\n",
       "</g>\n",
       "<!-- 1&#45;&gt;12 -->\n",
       "<g id=\"edge3\" class=\"edge\">\n",
       "<title>1&#45;&gt;12</title>\n",
       "<path fill=\"none\" stroke=\"black\" d=\"M238.61,-210.04C242.81,-217.05 247.78,-225.34 252.42,-233.07\"/>\n",
       "<polygon fill=\"black\" stroke=\"black\" points=\"249.51,-235.02 257.65,-241.79 255.51,-231.42 249.51,-235.02\"/>\n",
       "</g>\n",
       "<!-- 21 -->\n",
       "<g id=\"node6\" class=\"node\">\n",
       "<title>21</title>\n",
       "<ellipse fill=\"none\" stroke=\"black\" cx=\"203.36\" cy=\"-296.19\" rx=\"27\" ry=\"18\"/>\n",
       "<text text-anchor=\"middle\" x=\"203.36\" y=\"-292.49\" font-family=\"Times,serif\" font-size=\"14.00\">21</text>\n",
       "</g>\n",
       "<!-- 2&#45;&gt;21 -->\n",
       "<g id=\"edge5\" class=\"edge\">\n",
       "<title>2&#45;&gt;21</title>\n",
       "<path fill=\"none\" stroke=\"black\" d=\"M175.5,-246.02C179.57,-253.36 184.43,-262.11 188.95,-270.23\"/>\n",
       "<polygon fill=\"black\" stroke=\"black\" points=\"185.92,-271.99 193.83,-279.03 192.04,-268.59 185.92,-271.99\"/>\n",
       "</g>\n",
       "<!-- 22 -->\n",
       "<g id=\"node7\" class=\"node\">\n",
       "<title>22</title>\n",
       "<ellipse fill=\"none\" stroke=\"black\" cx=\"128.82\" cy=\"-296.19\" rx=\"27\" ry=\"18\"/>\n",
       "<text text-anchor=\"middle\" x=\"128.82\" y=\"-292.49\" font-family=\"Times,serif\" font-size=\"14.00\">22</text>\n",
       "</g>\n",
       "<!-- 2&#45;&gt;22 -->\n",
       "<g id=\"edge6\" class=\"edge\">\n",
       "<title>2&#45;&gt;22</title>\n",
       "<path fill=\"none\" stroke=\"black\" d=\"M156.69,-246.02C152.61,-253.36 147.75,-262.11 143.24,-270.23\"/>\n",
       "<polygon fill=\"black\" stroke=\"black\" points=\"140.15,-268.59 138.35,-279.03 146.27,-271.99 140.15,-268.59\"/>\n",
       "</g>\n",
       "<!-- 31 -->\n",
       "<g id=\"node9\" class=\"node\">\n",
       "<title>31</title>\n",
       "<ellipse fill=\"none\" stroke=\"black\" cx=\"64.27\" cy=\"-258.92\" rx=\"27\" ry=\"18\"/>\n",
       "<text text-anchor=\"middle\" x=\"64.27\" y=\"-255.22\" font-family=\"Times,serif\" font-size=\"14.00\">31</text>\n",
       "</g>\n",
       "<!-- 3&#45;&gt;31 -->\n",
       "<g id=\"edge8\" class=\"edge\">\n",
       "<title>3&#45;&gt;31</title>\n",
       "<path fill=\"none\" stroke=\"black\" d=\"M93.58,-210.04C89.37,-217.05 84.41,-225.34 79.77,-233.07\"/>\n",
       "<polygon fill=\"black\" stroke=\"black\" points=\"76.68,-231.42 74.54,-241.79 82.68,-235.02 76.68,-231.42\"/>\n",
       "</g>\n",
       "<!-- 32 -->\n",
       "<g id=\"node10\" class=\"node\">\n",
       "<title>32</title>\n",
       "<ellipse fill=\"none\" stroke=\"black\" cx=\"27\" cy=\"-194.36\" rx=\"27\" ry=\"18\"/>\n",
       "<text text-anchor=\"middle\" x=\"27\" y=\"-190.66\" font-family=\"Times,serif\" font-size=\"14.00\">32</text>\n",
       "</g>\n",
       "<!-- 3&#45;&gt;32 -->\n",
       "<g id=\"edge9\" class=\"edge\">\n",
       "<title>3&#45;&gt;32</title>\n",
       "<path fill=\"none\" stroke=\"black\" d=\"M76.47,-193.54C72.51,-193.61 68.38,-193.68 64.27,-193.75\"/>\n",
       "<polygon fill=\"black\" stroke=\"black\" points=\"64.12,-190.25 54.18,-193.91 64.24,-197.25 64.12,-190.25\"/>\n",
       "</g>\n",
       "<!-- 41 -->\n",
       "<g id=\"node12\" class=\"node\">\n",
       "<title>41</title>\n",
       "<ellipse fill=\"none\" stroke=\"black\" cx=\"27\" cy=\"-119.82\" rx=\"27\" ry=\"18\"/>\n",
       "<text text-anchor=\"middle\" x=\"27\" y=\"-116.12\" font-family=\"Times,serif\" font-size=\"14.00\">41</text>\n",
       "</g>\n",
       "<!-- 4&#45;&gt;41 -->\n",
       "<g id=\"edge11\" class=\"edge\">\n",
       "<title>4&#45;&gt;41</title>\n",
       "<path fill=\"none\" stroke=\"black\" d=\"M76.47,-120.64C72.51,-120.58 68.38,-120.51 64.27,-120.44\"/>\n",
       "<polygon fill=\"black\" stroke=\"black\" points=\"64.24,-116.94 54.18,-120.27 64.12,-123.94 64.24,-116.94\"/>\n",
       "</g>\n",
       "<!-- 42 -->\n",
       "<g id=\"node13\" class=\"node\">\n",
       "<title>42</title>\n",
       "<ellipse fill=\"none\" stroke=\"black\" cx=\"64.27\" cy=\"-55.27\" rx=\"27\" ry=\"18\"/>\n",
       "<text text-anchor=\"middle\" x=\"64.27\" y=\"-51.57\" font-family=\"Times,serif\" font-size=\"14.00\">42</text>\n",
       "</g>\n",
       "<!-- 4&#45;&gt;42 -->\n",
       "<g id=\"edge12\" class=\"edge\">\n",
       "<title>4&#45;&gt;42</title>\n",
       "<path fill=\"none\" stroke=\"black\" d=\"M93.58,-104.14C89.37,-97.13 84.41,-88.85 79.77,-81.11\"/>\n",
       "<polygon fill=\"black\" stroke=\"black\" points=\"82.68,-79.17 74.54,-72.39 76.68,-82.77 82.68,-79.17\"/>\n",
       "</g>\n",
       "<!-- 51 -->\n",
       "<g id=\"node15\" class=\"node\">\n",
       "<title>51</title>\n",
       "<ellipse fill=\"none\" stroke=\"black\" cx=\"128.82\" cy=\"-18\" rx=\"27\" ry=\"18\"/>\n",
       "<text text-anchor=\"middle\" x=\"128.82\" y=\"-14.3\" font-family=\"Times,serif\" font-size=\"14.00\">51</text>\n",
       "</g>\n",
       "<!-- 5&#45;&gt;51 -->\n",
       "<g id=\"edge14\" class=\"edge\">\n",
       "<title>5&#45;&gt;51</title>\n",
       "<path fill=\"none\" stroke=\"black\" d=\"M156.69,-68.16C152.61,-60.83 147.75,-52.08 143.24,-43.96\"/>\n",
       "<polygon fill=\"black\" stroke=\"black\" points=\"146.27,-42.2 138.35,-35.16 140.15,-45.6 146.27,-42.2\"/>\n",
       "</g>\n",
       "<!-- 52 -->\n",
       "<g id=\"node16\" class=\"node\">\n",
       "<title>52</title>\n",
       "<ellipse fill=\"none\" stroke=\"black\" cx=\"203.36\" cy=\"-18\" rx=\"27\" ry=\"18\"/>\n",
       "<text text-anchor=\"middle\" x=\"203.36\" y=\"-14.3\" font-family=\"Times,serif\" font-size=\"14.00\">52</text>\n",
       "</g>\n",
       "<!-- 5&#45;&gt;52 -->\n",
       "<g id=\"edge15\" class=\"edge\">\n",
       "<title>5&#45;&gt;52</title>\n",
       "<path fill=\"none\" stroke=\"black\" d=\"M175.5,-68.16C179.57,-60.83 184.43,-52.08 188.95,-43.96\"/>\n",
       "<polygon fill=\"black\" stroke=\"black\" points=\"192.04,-45.6 193.83,-35.16 185.92,-42.2 192.04,-45.6\"/>\n",
       "</g>\n",
       "<!-- 61 -->\n",
       "<g id=\"node18\" class=\"node\">\n",
       "<title>61</title>\n",
       "<ellipse fill=\"none\" stroke=\"black\" cx=\"267.92\" cy=\"-55.27\" rx=\"27\" ry=\"18\"/>\n",
       "<text text-anchor=\"middle\" x=\"267.92\" y=\"-51.57\" font-family=\"Times,serif\" font-size=\"14.00\">61</text>\n",
       "</g>\n",
       "<!-- 6&#45;&gt;61 -->\n",
       "<g id=\"edge17\" class=\"edge\">\n",
       "<title>6&#45;&gt;61</title>\n",
       "<path fill=\"none\" stroke=\"black\" d=\"M238.61,-104.14C242.81,-97.13 247.78,-88.85 252.42,-81.11\"/>\n",
       "<polygon fill=\"black\" stroke=\"black\" points=\"255.51,-82.77 257.65,-72.39 249.51,-79.17 255.51,-82.77\"/>\n",
       "</g>\n",
       "<!-- 62 -->\n",
       "<g id=\"node19\" class=\"node\">\n",
       "<title>62</title>\n",
       "<ellipse fill=\"none\" stroke=\"black\" cx=\"305.19\" cy=\"-119.82\" rx=\"27\" ry=\"18\"/>\n",
       "<text text-anchor=\"middle\" x=\"305.19\" y=\"-116.12\" font-family=\"Times,serif\" font-size=\"14.00\">62</text>\n",
       "</g>\n",
       "<!-- 6&#45;&gt;62 -->\n",
       "<g id=\"edge18\" class=\"edge\">\n",
       "<title>6&#45;&gt;62</title>\n",
       "<path fill=\"none\" stroke=\"black\" d=\"M255.72,-120.64C259.68,-120.58 263.81,-120.51 267.92,-120.44\"/>\n",
       "<polygon fill=\"black\" stroke=\"black\" points=\"268.06,-123.94 278,-120.27 267.95,-116.94 268.06,-123.94\"/>\n",
       "</g>\n",
       "</g>\n",
       "</svg>\n"
      ],
      "text/plain": [
       "<graphviz.graphs.Digraph at 0x7f0e9424ce50>"
      ]
     },
     "execution_count": 22,
     "metadata": {},
     "output_type": "execute_result"
    }
   ],
   "source": [
    "graph15"
   ]
  },
  {
   "cell_type": "code",
   "execution_count": 23,
   "id": "7228c107-b929-48f0-b826-26e39a3f58ee",
   "metadata": {
    "editable": true,
    "slideshow": {
     "slide_type": "slide"
    },
    "tags": []
   },
   "outputs": [
    {
     "data": {
      "image/svg+xml": [
       "<?xml version=\"1.0\" encoding=\"UTF-8\" standalone=\"no\"?>\n",
       "<!DOCTYPE svg PUBLIC \"-//W3C//DTD SVG 1.1//EN\"\n",
       " \"http://www.w3.org/Graphics/SVG/1.1/DTD/svg11.dtd\">\n",
       "<!-- Generated by graphviz version 2.43.0 (0)\n",
       " -->\n",
       "<!-- Title: graphvizstack2 Pages: 1 -->\n",
       "<svg width=\"133pt\" height=\"188pt\"\n",
       " viewBox=\"0.00 0.00 133.00 188.00\" xmlns=\"http://www.w3.org/2000/svg\" xmlns:xlink=\"http://www.w3.org/1999/xlink\">\n",
       "<g id=\"graph0\" class=\"graph\" transform=\"scale(1 1) rotate(0) translate(4 184)\">\n",
       "<title>graphvizstack2</title>\n",
       "<polygon fill=\"white\" stroke=\"transparent\" points=\"-4,4 -4,-184 129,-184 129,4 -4,4\"/>\n",
       "<!-- Diagrams -->\n",
       "<g id=\"node1\" class=\"node\">\n",
       "<title>Diagrams</title>\n",
       "<polygon fill=\"none\" stroke=\"black\" points=\"105.5,-180 19.5,-180 19.5,-144 105.5,-144 105.5,-180\"/>\n",
       "<text text-anchor=\"middle\" x=\"62.5\" y=\"-158.3\" font-family=\"Times,serif\" font-size=\"14.00\">Diagrams</text>\n",
       "</g>\n",
       "<!-- graphviz libray -->\n",
       "<g id=\"node2\" class=\"node\">\n",
       "<title>graphviz libray</title>\n",
       "<polygon fill=\"none\" stroke=\"black\" points=\"125,-108 0,-108 0,-72 125,-72 125,-108\"/>\n",
       "<text text-anchor=\"middle\" x=\"62.5\" y=\"-86.3\" font-family=\"Times,serif\" font-size=\"14.00\">graphviz libray</text>\n",
       "</g>\n",
       "<!-- Diagrams&#45;&gt;graphviz libray -->\n",
       "<g id=\"edge1\" class=\"edge\">\n",
       "<title>Diagrams&#45;&gt;graphviz libray</title>\n",
       "<path fill=\"none\" stroke=\"black\" d=\"M62.5,-143.7C62.5,-135.98 62.5,-126.71 62.5,-118.11\"/>\n",
       "<polygon fill=\"black\" stroke=\"black\" points=\"66,-118.1 62.5,-108.1 59,-118.1 66,-118.1\"/>\n",
       "</g>\n",
       "<!-- DOT language -->\n",
       "<g id=\"node3\" class=\"node\">\n",
       "<title>DOT language</title>\n",
       "<polygon fill=\"none\" stroke=\"black\" points=\"121.5,-36 3.5,-36 3.5,0 121.5,0 121.5,-36\"/>\n",
       "<text text-anchor=\"middle\" x=\"62.5\" y=\"-14.3\" font-family=\"Times,serif\" font-size=\"14.00\">DOT language</text>\n",
       "</g>\n",
       "<!-- graphviz libray&#45;&gt;DOT language -->\n",
       "<g id=\"edge2\" class=\"edge\">\n",
       "<title>graphviz libray&#45;&gt;DOT language</title>\n",
       "<path fill=\"none\" stroke=\"black\" d=\"M62.5,-71.7C62.5,-63.98 62.5,-54.71 62.5,-46.11\"/>\n",
       "<polygon fill=\"black\" stroke=\"black\" points=\"66,-46.1 62.5,-36.1 59,-46.1 66,-46.1\"/>\n",
       "</g>\n",
       "</g>\n",
       "</svg>\n"
      ],
      "text/plain": [
       "<graphviz.graphs.Digraph at 0x7f0e9424cf40>"
      ]
     },
     "execution_count": 23,
     "metadata": {},
     "output_type": "execute_result"
    }
   ],
   "source": [
    "stack2_graph = build_digraph('stack2', {'rankdir': 'TB'})\n",
    "stack2_graph.attr('node', {'shape': 'rectangle'})\n",
    "labels = ('Diagrams', 'graphviz libray', 'DOT language')\n",
    "for i in range(len(labels) - 1):\n",
    "    stack2_graph.edge(labels[i], labels[i+1])\n",
    "stack2_graph"
   ]
  },
  {
   "cell_type": "raw",
   "id": "daa79557-5c36-419e-9303-47b0e28daf84",
   "metadata": {
    "editable": true,
    "raw_mimetype": "",
    "slideshow": {
     "slide_type": "notes"
    },
    "tags": []
   },
   "source": [
    "The diagrams library is handy for creating architecture diagrams of systems.  diagrams provides a large number of Node types with the logos for variaous technologies.  In particular there's a lot of Nodes for various cloud offerings."
   ]
  },
  {
   "cell_type": "markdown",
   "id": "2ab708db-d2b1-47e9-b141-2d1556ccb2c6",
   "metadata": {
    "editable": true,
    "slideshow": {
     "slide_type": "slide"
    },
    "tags": []
   },
   "source": [
    "To install diagrams library\n",
    "\n",
    "`pip install diagrams`"
   ]
  },
  {
   "cell_type": "code",
   "execution_count": 24,
   "id": "d716601b-4928-4df5-8770-9eb9229644ed",
   "metadata": {
    "editable": true,
    "slideshow": {
     "slide_type": "slide"
    },
    "tags": []
   },
   "outputs": [],
   "source": [
    "from diagrams import Diagram\n",
    "from diagrams.aws.compute import EC2\n",
    "\n",
    "with Diagram(\n",
    "    \"Simple Diagram\",  # diagram title\n",
    "    show=False,  # by default Diagram opens file in viewer\n",
    "    outformat=\"svg\",\n",
    ") as diagram:\n",
    "    EC2(\"EC2 Thingy\") # Create an EC2 node"
   ]
  },
  {
   "cell_type": "code",
   "execution_count": 25,
   "id": "3939be21-a8b8-4b8b-9a58-b4c27e189ccb",
   "metadata": {
    "editable": true,
    "slideshow": {
     "slide_type": "slide"
    },
    "tags": []
   },
   "outputs": [
    {
     "data": {
      "image/png": "[encoded data removed]",
      "text/plain": [
       "<diagrams.Diagram at 0x7f0e9424ce80>"
      ]
     },
     "execution_count": 25,
     "metadata": {},
     "output_type": "execute_result"
    }
   ],
   "source": [
    "# Note: that this will also create a file.  With \n",
    "# filename based on the diagram title.\n",
    "diagram"
   ]
  },
  {
   "cell_type": "code",
   "execution_count": 26,
   "id": "b74c0e11-8073-465f-aee1-deb0c6477c3f",
   "metadata": {
    "editable": true,
    "slideshow": {
     "slide_type": "slide"
    },
    "tags": []
   },
   "outputs": [],
   "source": [
    "class DemoDiagram(Diagram):\n",
    "    def __init__(self, label, **kwargs):\n",
    "        default_kwargs = {\n",
    "            'show': False,\n",
    "            'outformat': 'svg',\n",
    "            'graph_attr': {\n",
    "                'pad': '0.125',\n",
    "                'nodesep': '0.15',\n",
    "                \"ranksep\": \"0.325\",\n",
    "            },\n",
    "            'node_attr': {\n",
    "                \"width\": \"1\",\n",
    "                \"height\": \"1\",\n",
    "            },\n",
    "        }\n",
    "        default_kwargs.update(kwargs)\n",
    "        super().__init__(label, **default_kwargs)"
   ]
  },
  {
   "cell_type": "raw",
   "id": "2b1317f2-5b91-4c4e-b4f7-76614adf9937",
   "metadata": {
    "editable": true,
    "raw_mimetype": "",
    "slideshow": {
     "slide_type": "notes"
    },
    "tags": []
   },
   "source": [
    "Here I created a sub-class of Diagram that automatically sets some options and attribute.  A lot of this is aimed at reducing the amount of blank space around the graph."
   ]
  },
  {
   "cell_type": "code",
   "execution_count": 27,
   "id": "9715a2d4-00bf-4a62-9a25-9df10a063402",
   "metadata": {
    "editable": true,
    "slideshow": {
     "slide_type": "slide"
    },
    "tags": []
   },
   "outputs": [
    {
     "name": "stderr",
     "output_type": "stream",
     "text": [
      "Warning: node '892d0b1e90da45beb7e0c65a4cea69de', graph 'NOW WITH EDGES!' size too small for label\n"
     ]
    },
    {
     "data": {
      "image/png": "[encoded data removed]",
      "text/plain": [
       "<__main__.DemoDiagram at 0x7f0e94264fd0>"
      ]
     },
     "execution_count": 27,
     "metadata": {},
     "output_type": "execute_result"
    }
   ],
   "source": [
    "from diagrams.aws.database import RDS\n",
    "from diagrams.aws.storage import S3\n",
    "\n",
    "with DemoDiagram(\"NOW WITH EDGES!\") as diagram2:\n",
    "    EC2(\"Webserver\") - RDS(\"DB\") >> S3(\"Data Swamp\") << S3(\"Data Lake\")\n",
    "diagram2"
   ]
  },
  {
   "cell_type": "raw",
   "id": "b7a14462-31aa-4528-a920-e7ea306aa3f6",
   "metadata": {
    "editable": true,
    "raw_mimetype": "",
    "slideshow": {
     "slide_type": "notes"
    },
    "tags": []
   },
   "source": [
    "Here we introduce edges.  '-' is an undirected edge.  Shift operators shift the bits in a number a specified number of places.  Right shift generates an error to the right and left shift generates an arrow to the left.  Be careful with operator precedence - has higher priority than shift operators."
   ]
  },
  {
   "cell_type": "code",
   "execution_count": 28,
   "id": "2deb5719-aefd-4e92-8b89-0e3ecfdfcc2e",
   "metadata": {
    "editable": true,
    "slideshow": {
     "slide_type": "slide"
    },
    "tags": []
   },
   "outputs": [],
   "source": [
    "from diagrams.onprem.network import Apache, Tomcat\n",
    "from diagrams.onprem.database import MySQL\n",
    "with DemoDiagram(\"Java Stack\") as diagram3:\n",
    "    web = Apache('webserver')\n",
    "    app = Tomcat('apserver')\n",
    "    db = MySQL('database')\n",
    "    web - app - db"
   ]
  },
  {
   "cell_type": "raw",
   "id": "5b88a540-a29c-492b-8186-c8705724a5a7",
   "metadata": {
    "editable": true,
    "raw_mimetype": "",
    "slideshow": {
     "slide_type": "notes"
    },
    "tags": []
   },
   "source": [
    "As with the graphviz library, you can define your node then connect them later.  The onprem library is handy, since it has nodes for a lot of different webservers, datbases, etc."
   ]
  },
  {
   "cell_type": "code",
   "execution_count": 29,
   "id": "83028f23-7abd-427e-b73c-754a65ac0be2",
   "metadata": {
    "editable": true,
    "slideshow": {
     "slide_type": "slide"
    },
    "tags": []
   },
   "outputs": [
    {
     "data": {
      "image/png": "[encoded data removed]",
      "text/plain": [
       "<__main__.DemoDiagram at 0x7f0e94264040>"
      ]
     },
     "execution_count": 29,
     "metadata": {},
     "output_type": "execute_result"
    }
   ],
   "source": [
    "diagram3"
   ]
  },
  {
   "cell_type": "code",
   "execution_count": 36,
   "id": "3c9083b9-f1f2-4509-8370-0b939ee8185a",
   "metadata": {
    "editable": true,
    "slideshow": {
     "slide_type": "slide"
    },
    "tags": []
   },
   "outputs": [],
   "source": [
    "from diagrams import Edge\n",
    "from diagrams.generic.os import (\n",
    "    LinuxGeneral, Debian, RedHat, Centos, Ubuntu)\n",
    "with DemoDiagram(\"Incorrect Linux Begats\") as diagram4:\n",
    "    linux, red_hat, debian = LinuxGeneral(), RedHat(), Debian()\n",
    "    linux >> Edge(color='red') >> red_hat\n",
    "    linux >> Edge(color='blue') << debian # 2-way arrow\n",
    "    # no-way arrow\n",
    "    red_hat - Edge(label='Nice OS ya got there') - Centos()\n",
    "    # 2-way arrow\n",
    "    debian << Edge(color=\"blue\", style=\"bold\") >> Ubuntu()"
   ]
  },
  {
   "cell_type": "raw",
   "id": "cdc52459-a6c2-4465-b199-0d1dd22ad83e",
   "metadata": {
    "editable": true,
    "raw_mimetype": "",
    "slideshow": {
     "slide_type": "notes"
    },
    "tags": []
   },
   "source": [
    "To add edges with some option, use the Edge class.  The shift or minus operator control which direction the edge points."
   ]
  },
  {
   "cell_type": "code",
   "execution_count": 37,
   "id": "8fc4780f-41ad-4888-b3b7-d87982fa3c3a",
   "metadata": {
    "editable": true,
    "slideshow": {
     "slide_type": "slide"
    },
    "tags": []
   },
   "outputs": [
    {
     "name": "stderr",
     "output_type": "stream",
     "text": [
      "Warning: Orthogonal edges do not currently handle edge labels. Try using xlabels.\n"
     ]
    },
    {
     "data": {
      "image/png": "[encoded data removed]",
      "text/plain": [
       "<__main__.DemoDiagram at 0x7f0e942b82e0>"
      ]
     },
     "execution_count": 37,
     "metadata": {},
     "output_type": "execute_result"
    }
   ],
   "source": [
    "diagram4"
   ]
  },
  {
   "cell_type": "code",
   "execution_count": 32,
   "id": "97558bc1-8b98-45ea-9ea4-c48259221867",
   "metadata": {
    "editable": true,
    "slideshow": {
     "slide_type": "slide"
    },
    "tags": []
   },
   "outputs": [],
   "source": [
    "from diagrams import Cluster\n",
    "from diagrams.programming.framework import (\n",
    "    Angular, Django, Flask, React)\n",
    "with DemoDiagram(\"Frameworks\") as diagram5:\n",
    "    with Cluster('Python'):\n",
    "        d = Django()\n",
    "        Flask()\n",
    "    with Cluster('JavaScript'):\n",
    "        a = Angular()\n",
    "        React()\n",
    "    # invisible edge to force clusters to be side-by-side\n",
    "    d >> Edge(style=\"invis\") >> a"
   ]
  },
  {
   "cell_type": "code",
   "execution_count": 33,
   "id": "d6ce9843-7758-45d0-bdcf-eed1479ddb6a",
   "metadata": {
    "editable": true,
    "slideshow": {
     "slide_type": "slide"
    },
    "tags": []
   },
   "outputs": [
    {
     "data": {
      "image/png": "[encoded data removed]",
      "text/plain": [
       "<__main__.DemoDiagram at 0x7f0e94215fd0>"
      ]
     },
     "execution_count": 33,
     "metadata": {},
     "output_type": "execute_result"
    }
   ],
   "source": [
    "diagram5"
   ]
  },
  {
   "cell_type": "code",
   "execution_count": 34,
   "id": "c1073281-c974-402d-935b-d1f6982a2d4b",
   "metadata": {
    "editable": true,
    "slideshow": {
     "slide_type": "slide"
    },
    "tags": []
   },
   "outputs": [],
   "source": [
    "with DemoDiagram(\"Nested Clusters\") as diagram6:\n",
    "    with Cluster(\"Corporate Network\"):\n",
    "        with Cluster(\"Accident, MD Datacenter\"):\n",
    "            ap0 = Apache()\n",
    "            tc0 = Tomcat()\n",
    "            my0 = MySQL()\n",
    "            ap0 - tc0 - my0\n",
    "        with Cluster(\"Bacon Level, AL Datacenter\", direction='TB'):\n",
    "            ap1 = Apache()\n",
    "            tc1 = Tomcat()\n",
    "            my1 = MySQL()\n",
    "            ap1 - tc1 - my1\n",
    "        my0 - my1"
   ]
  },
  {
   "cell_type": "code",
   "execution_count": 35,
   "id": "2767cfc1-f790-4c43-8382-26be2d3abeb3",
   "metadata": {
    "editable": true,
    "slideshow": {
     "slide_type": "slide"
    },
    "tags": []
   },
   "outputs": [
    {
     "data": {
      "image/png": "[encoded data removed]",
      "text/plain": [
       "<__main__.DemoDiagram at 0x7f0e9421edc0>"
      ]
     },
     "execution_count": 35,
     "metadata": {},
     "output_type": "execute_result"
    }
   ],
   "source": [
    "diagram6"
   ]
  },
  {
   "cell_type": "markdown",
   "id": "6b02c200-f7b5-4a4f-8847-f26f9945ee3c",
   "metadata": {
    "editable": true,
    "slideshow": {
     "slide_type": "slide"
    },
    "tags": []
   },
   "source": [
    "## Reading Diagrams source code\n",
    "\n",
    "The Diagrams documenation is rather hit or miss.  Sometimes you need to read the code.\n",
    "\n",
    "* The code is farily well organized and pretty easy to read (especially if you've had some experience working with the graphviz python library)\n",
    "* A lot of code lives in the `__init__.py` files, look there first"
   ]
  },
  {
   "cell_type": "markdown",
   "id": "fd2939e7-e08d-4e4c-9904-1754b92662af",
   "metadata": {
    "editable": true,
    "slideshow": {
     "slide_type": "slide"
    },
    "tags": []
   },
   "source": [
    "## Other Things to try\n",
    "\n",
    "1. The various node types in Diagrams\n",
    "2. Other layout engines in Graphviz\n",
    "3. The Record shape in Graphviz (This has largely been superceded by HTML labels)\n",
    "\n",
    "*Record-based shape example from Graphviz User's Guide*\n",
    "\n",
    "![record-based shape example](record_based_shape.svg)\n"
   ]
  },
  {
   "cell_type": "markdown",
   "id": "a0e2df68-7bb1-435c-ab8a-fca75163cb76",
   "metadata": {
    "editable": true,
    "slideshow": {
     "slide_type": "slide"
    },
    "tags": []
   },
   "source": [
    "## Resources\n",
    "\n",
    "* [graphviz.org](https://graphviz.org/)\n",
    "* [graphviz (Python Library)](https://graphviz.readthedocs.io/en/stable/)\n",
    "* [HTML labels](https://graphviz.org/doc/info/shapes.html#html)\n",
    "* [Diagrams (Python Library) - documentation](https://diagrams.mingrammer.com/docs/getting-started/installation)\n",
    "* [Diagrams (Python Library) - Github Repo](https://github.com/mingrammer/diagrams)\n",
    "\n",
    "Github Repo for this Presentation:\n",
    "\n",
    "* [https://github.com/jocassid/Talk-GraphvizAndPython](https://github.com/jocassid/Talk-GraphvizAndPython)"
   ]
  }
 ],
 "metadata": {
  "kernelspec": {
   "display_name": "Python 3 (ipykernel)",
   "language": "python",
   "name": "python3"
  },
  "language_info": {
   "codemirror_mode": {
    "name": "ipython",
    "version": 3
   },
   "file_extension": ".py",
   "mimetype": "text/x-python",
   "name": "python",
   "nbconvert_exporter": "python",
   "pygments_lexer": "ipython3",
   "version": "3.8.10"
  }
 },
 "nbformat": 4,
 "nbformat_minor": 5
}
